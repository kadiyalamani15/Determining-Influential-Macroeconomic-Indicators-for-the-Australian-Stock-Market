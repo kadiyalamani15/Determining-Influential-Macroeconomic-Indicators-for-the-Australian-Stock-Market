{
  "nbformat": 4,
  "nbformat_minor": 0,
  "metadata": {
    "colab": {
      "name": "Vaishu_Stocks Final.ipynb",
      "provenance": [],
      "collapsed_sections": [],
      "authorship_tag": "ABX9TyNisqZ7BONytUlkMbJkZYyt",
      "include_colab_link": true
    },
    "kernelspec": {
      "name": "python3",
      "display_name": "Python 3"
    },
    "language_info": {
      "name": "python"
    }
  },
  "cells": [
    {
      "cell_type": "markdown",
      "metadata": {
        "id": "view-in-github",
        "colab_type": "text"
      },
      "source": [
        "<a href=\"https://colab.research.google.com/github/kadiyalamani15/Determining-Influential-Macroeconomic-Indicators-for-the-Australian-Stock-Market/blob/main/final_factors_9.ipynb\" target=\"_parent\"><img src=\"https://colab.research.google.com/assets/colab-badge.svg\" alt=\"Open In Colab\"/></a>"
      ]
    },
    {
      "cell_type": "code",
      "execution_count": 1,
      "metadata": {
        "colab": {
          "base_uri": "https://localhost:8080/"
        },
        "id": "tAbI_6DVGPMW",
        "outputId": "1ce31cdf-a885-4484-d23f-5c2e19404d6d"
      },
      "outputs": [
        {
          "output_type": "stream",
          "name": "stdout",
          "text": [
            "Looking in indexes: https://pypi.org/simple, https://us-python.pkg.dev/colab-wheels/public/simple/\n",
            "Requirement already satisfied: factor_analyzer in /usr/local/lib/python3.7/dist-packages (0.4.0)\n",
            "Requirement already satisfied: pandas in /usr/local/lib/python3.7/dist-packages (from factor_analyzer) (1.3.5)\n",
            "Requirement already satisfied: scikit-learn in /usr/local/lib/python3.7/dist-packages (from factor_analyzer) (1.0.2)\n",
            "Requirement already satisfied: scipy in /usr/local/lib/python3.7/dist-packages (from factor_analyzer) (1.7.3)\n",
            "Requirement already satisfied: numpy in /usr/local/lib/python3.7/dist-packages (from factor_analyzer) (1.21.6)\n",
            "Requirement already satisfied: pytz>=2017.3 in /usr/local/lib/python3.7/dist-packages (from pandas->factor_analyzer) (2022.1)\n",
            "Requirement already satisfied: python-dateutil>=2.7.3 in /usr/local/lib/python3.7/dist-packages (from pandas->factor_analyzer) (2.8.2)\n",
            "Requirement already satisfied: six>=1.5 in /usr/local/lib/python3.7/dist-packages (from python-dateutil>=2.7.3->pandas->factor_analyzer) (1.15.0)\n",
            "Requirement already satisfied: joblib>=0.11 in /usr/local/lib/python3.7/dist-packages (from scikit-learn->factor_analyzer) (1.1.0)\n",
            "Requirement already satisfied: threadpoolctl>=2.0.0 in /usr/local/lib/python3.7/dist-packages (from scikit-learn->factor_analyzer) (3.1.0)\n"
          ]
        }
      ],
      "source": [
        "!pip install factor_analyzer"
      ]
    },
    {
      "cell_type": "code",
      "source": [
        "# Import required libraries\n",
        "import pandas as pd\n",
        "import numpy as np\n",
        "from sklearn.decomposition import PCA\n",
        "from sklearn.preprocessing import StandardScaler\n",
        "from factor_analyzer import FactorAnalyzer\n",
        "import matplotlib.pyplot as plt\n",
        "import warnings\n",
        "warnings.filterwarnings('ignore')"
      ],
      "metadata": {
        "id": "Mgg9ZtisG3kb"
      },
      "execution_count": 2,
      "outputs": []
    },
    {
      "cell_type": "code",
      "source": [
        "# Reading Data\n",
        "\n",
        "df = pd.read_excel(\"79_indices_agg.xlsx\")\n",
        "df.head()"
      ],
      "metadata": {
        "colab": {
          "base_uri": "https://localhost:8080/",
          "height": 233
        },
        "id": "fII1fYw7HK83",
        "outputId": "52dc7618-7163-4e25-8da8-7b0f0d8a9749"
      },
      "execution_count": 3,
      "outputs": [
        {
          "output_type": "execute_result",
          "data": {
            "text/plain": [
              "        DATE  AUSBOT  AUSBP  AUSBR  AUSCA  AUSCARS   AUSCBBS  AUSCCON  \\\n",
              "0 2010-01-31   -1399   -1.8    473 -18223  12269.3  78419.25  1792.18   \n",
              "1 2010-02-28   -1418    2.7    827 -18223  12269.3  78180.50  1802.41   \n",
              "2 2010-03-31   -2105   11.3    904 -18223  12269.3  84303.40  1807.67   \n",
              "3 2010-04-30     495   -6.9    737  -8978  12269.3  81429.00  1815.12   \n",
              "4 2010-05-31     958   -6.4    914  -8978  12269.3  92267.75  1823.88   \n",
              "\n",
              "   AUSCCPI  AUSCF  ...  AUSSSR  AUSSSRC  AUSSSRE  AUSTOT  AUSTOUR  AUSTVS  \\\n",
              "0  95.8660  18295  ...    10.5     10.5      1.5   105.4   448700   86146   \n",
              "1  95.8660  18295  ...    10.5     10.5      1.5   105.4   560100   86045   \n",
              "2  95.8660  18295  ...    10.5     10.5      1.5   105.4   526300   85783   \n",
              "3  96.2427   5386  ...    10.5     10.5      1.5   120.0   428900   92950   \n",
              "4  96.2427   5386  ...    10.5     10.5      1.5   120.0   375000   88942   \n",
              "\n",
              "    AUSUNP  AUSUNR  AUSUNRY  AUSWAGE  \n",
              "0  607.867     5.3     11.3    968.3  \n",
              "1  611.984     5.3     11.3    968.3  \n",
              "2  626.429     5.4     11.8    968.3  \n",
              "3  636.386     5.5     11.9    981.3  \n",
              "4  603.493     5.2     11.4    981.3  \n",
              "\n",
              "[5 rows x 80 columns]"
            ],
            "text/html": [
              "\n",
              "  <div id=\"df-172b9366-fc38-4bde-9903-0c8f00ea70c8\">\n",
              "    <div class=\"colab-df-container\">\n",
              "      <div>\n",
              "<style scoped>\n",
              "    .dataframe tbody tr th:only-of-type {\n",
              "        vertical-align: middle;\n",
              "    }\n",
              "\n",
              "    .dataframe tbody tr th {\n",
              "        vertical-align: top;\n",
              "    }\n",
              "\n",
              "    .dataframe thead th {\n",
              "        text-align: right;\n",
              "    }\n",
              "</style>\n",
              "<table border=\"1\" class=\"dataframe\">\n",
              "  <thead>\n",
              "    <tr style=\"text-align: right;\">\n",
              "      <th></th>\n",
              "      <th>DATE</th>\n",
              "      <th>AUSBOT</th>\n",
              "      <th>AUSBP</th>\n",
              "      <th>AUSBR</th>\n",
              "      <th>AUSCA</th>\n",
              "      <th>AUSCARS</th>\n",
              "      <th>AUSCBBS</th>\n",
              "      <th>AUSCCON</th>\n",
              "      <th>AUSCCPI</th>\n",
              "      <th>AUSCF</th>\n",
              "      <th>...</th>\n",
              "      <th>AUSSSR</th>\n",
              "      <th>AUSSSRC</th>\n",
              "      <th>AUSSSRE</th>\n",
              "      <th>AUSTOT</th>\n",
              "      <th>AUSTOUR</th>\n",
              "      <th>AUSTVS</th>\n",
              "      <th>AUSUNP</th>\n",
              "      <th>AUSUNR</th>\n",
              "      <th>AUSUNRY</th>\n",
              "      <th>AUSWAGE</th>\n",
              "    </tr>\n",
              "  </thead>\n",
              "  <tbody>\n",
              "    <tr>\n",
              "      <th>0</th>\n",
              "      <td>2010-01-31</td>\n",
              "      <td>-1399</td>\n",
              "      <td>-1.8</td>\n",
              "      <td>473</td>\n",
              "      <td>-18223</td>\n",
              "      <td>12269.3</td>\n",
              "      <td>78419.25</td>\n",
              "      <td>1792.18</td>\n",
              "      <td>95.8660</td>\n",
              "      <td>18295</td>\n",
              "      <td>...</td>\n",
              "      <td>10.5</td>\n",
              "      <td>10.5</td>\n",
              "      <td>1.5</td>\n",
              "      <td>105.4</td>\n",
              "      <td>448700</td>\n",
              "      <td>86146</td>\n",
              "      <td>607.867</td>\n",
              "      <td>5.3</td>\n",
              "      <td>11.3</td>\n",
              "      <td>968.3</td>\n",
              "    </tr>\n",
              "    <tr>\n",
              "      <th>1</th>\n",
              "      <td>2010-02-28</td>\n",
              "      <td>-1418</td>\n",
              "      <td>2.7</td>\n",
              "      <td>827</td>\n",
              "      <td>-18223</td>\n",
              "      <td>12269.3</td>\n",
              "      <td>78180.50</td>\n",
              "      <td>1802.41</td>\n",
              "      <td>95.8660</td>\n",
              "      <td>18295</td>\n",
              "      <td>...</td>\n",
              "      <td>10.5</td>\n",
              "      <td>10.5</td>\n",
              "      <td>1.5</td>\n",
              "      <td>105.4</td>\n",
              "      <td>560100</td>\n",
              "      <td>86045</td>\n",
              "      <td>611.984</td>\n",
              "      <td>5.3</td>\n",
              "      <td>11.3</td>\n",
              "      <td>968.3</td>\n",
              "    </tr>\n",
              "    <tr>\n",
              "      <th>2</th>\n",
              "      <td>2010-03-31</td>\n",
              "      <td>-2105</td>\n",
              "      <td>11.3</td>\n",
              "      <td>904</td>\n",
              "      <td>-18223</td>\n",
              "      <td>12269.3</td>\n",
              "      <td>84303.40</td>\n",
              "      <td>1807.67</td>\n",
              "      <td>95.8660</td>\n",
              "      <td>18295</td>\n",
              "      <td>...</td>\n",
              "      <td>10.5</td>\n",
              "      <td>10.5</td>\n",
              "      <td>1.5</td>\n",
              "      <td>105.4</td>\n",
              "      <td>526300</td>\n",
              "      <td>85783</td>\n",
              "      <td>626.429</td>\n",
              "      <td>5.4</td>\n",
              "      <td>11.8</td>\n",
              "      <td>968.3</td>\n",
              "    </tr>\n",
              "    <tr>\n",
              "      <th>3</th>\n",
              "      <td>2010-04-30</td>\n",
              "      <td>495</td>\n",
              "      <td>-6.9</td>\n",
              "      <td>737</td>\n",
              "      <td>-8978</td>\n",
              "      <td>12269.3</td>\n",
              "      <td>81429.00</td>\n",
              "      <td>1815.12</td>\n",
              "      <td>96.2427</td>\n",
              "      <td>5386</td>\n",
              "      <td>...</td>\n",
              "      <td>10.5</td>\n",
              "      <td>10.5</td>\n",
              "      <td>1.5</td>\n",
              "      <td>120.0</td>\n",
              "      <td>428900</td>\n",
              "      <td>92950</td>\n",
              "      <td>636.386</td>\n",
              "      <td>5.5</td>\n",
              "      <td>11.9</td>\n",
              "      <td>981.3</td>\n",
              "    </tr>\n",
              "    <tr>\n",
              "      <th>4</th>\n",
              "      <td>2010-05-31</td>\n",
              "      <td>958</td>\n",
              "      <td>-6.4</td>\n",
              "      <td>914</td>\n",
              "      <td>-8978</td>\n",
              "      <td>12269.3</td>\n",
              "      <td>92267.75</td>\n",
              "      <td>1823.88</td>\n",
              "      <td>96.2427</td>\n",
              "      <td>5386</td>\n",
              "      <td>...</td>\n",
              "      <td>10.5</td>\n",
              "      <td>10.5</td>\n",
              "      <td>1.5</td>\n",
              "      <td>120.0</td>\n",
              "      <td>375000</td>\n",
              "      <td>88942</td>\n",
              "      <td>603.493</td>\n",
              "      <td>5.2</td>\n",
              "      <td>11.4</td>\n",
              "      <td>981.3</td>\n",
              "    </tr>\n",
              "  </tbody>\n",
              "</table>\n",
              "<p>5 rows × 80 columns</p>\n",
              "</div>\n",
              "      <button class=\"colab-df-convert\" onclick=\"convertToInteractive('df-172b9366-fc38-4bde-9903-0c8f00ea70c8')\"\n",
              "              title=\"Convert this dataframe to an interactive table.\"\n",
              "              style=\"display:none;\">\n",
              "        \n",
              "  <svg xmlns=\"http://www.w3.org/2000/svg\" height=\"24px\"viewBox=\"0 0 24 24\"\n",
              "       width=\"24px\">\n",
              "    <path d=\"M0 0h24v24H0V0z\" fill=\"none\"/>\n",
              "    <path d=\"M18.56 5.44l.94 2.06.94-2.06 2.06-.94-2.06-.94-.94-2.06-.94 2.06-2.06.94zm-11 1L8.5 8.5l.94-2.06 2.06-.94-2.06-.94L8.5 2.5l-.94 2.06-2.06.94zm10 10l.94 2.06.94-2.06 2.06-.94-2.06-.94-.94-2.06-.94 2.06-2.06.94z\"/><path d=\"M17.41 7.96l-1.37-1.37c-.4-.4-.92-.59-1.43-.59-.52 0-1.04.2-1.43.59L10.3 9.45l-7.72 7.72c-.78.78-.78 2.05 0 2.83L4 21.41c.39.39.9.59 1.41.59.51 0 1.02-.2 1.41-.59l7.78-7.78 2.81-2.81c.8-.78.8-2.07 0-2.86zM5.41 20L4 18.59l7.72-7.72 1.47 1.35L5.41 20z\"/>\n",
              "  </svg>\n",
              "      </button>\n",
              "      \n",
              "  <style>\n",
              "    .colab-df-container {\n",
              "      display:flex;\n",
              "      flex-wrap:wrap;\n",
              "      gap: 12px;\n",
              "    }\n",
              "\n",
              "    .colab-df-convert {\n",
              "      background-color: #E8F0FE;\n",
              "      border: none;\n",
              "      border-radius: 50%;\n",
              "      cursor: pointer;\n",
              "      display: none;\n",
              "      fill: #1967D2;\n",
              "      height: 32px;\n",
              "      padding: 0 0 0 0;\n",
              "      width: 32px;\n",
              "    }\n",
              "\n",
              "    .colab-df-convert:hover {\n",
              "      background-color: #E2EBFA;\n",
              "      box-shadow: 0px 1px 2px rgba(60, 64, 67, 0.3), 0px 1px 3px 1px rgba(60, 64, 67, 0.15);\n",
              "      fill: #174EA6;\n",
              "    }\n",
              "\n",
              "    [theme=dark] .colab-df-convert {\n",
              "      background-color: #3B4455;\n",
              "      fill: #D2E3FC;\n",
              "    }\n",
              "\n",
              "    [theme=dark] .colab-df-convert:hover {\n",
              "      background-color: #434B5C;\n",
              "      box-shadow: 0px 1px 3px 1px rgba(0, 0, 0, 0.15);\n",
              "      filter: drop-shadow(0px 1px 2px rgba(0, 0, 0, 0.3));\n",
              "      fill: #FFFFFF;\n",
              "    }\n",
              "  </style>\n",
              "\n",
              "      <script>\n",
              "        const buttonEl =\n",
              "          document.querySelector('#df-172b9366-fc38-4bde-9903-0c8f00ea70c8 button.colab-df-convert');\n",
              "        buttonEl.style.display =\n",
              "          google.colab.kernel.accessAllowed ? 'block' : 'none';\n",
              "\n",
              "        async function convertToInteractive(key) {\n",
              "          const element = document.querySelector('#df-172b9366-fc38-4bde-9903-0c8f00ea70c8');\n",
              "          const dataTable =\n",
              "            await google.colab.kernel.invokeFunction('convertToInteractive',\n",
              "                                                     [key], {});\n",
              "          if (!dataTable) return;\n",
              "\n",
              "          const docLinkHtml = 'Like what you see? Visit the ' +\n",
              "            '<a target=\"_blank\" href=https://colab.research.google.com/notebooks/data_table.ipynb>data table notebook</a>'\n",
              "            + ' to learn more about interactive tables.';\n",
              "          element.innerHTML = '';\n",
              "          dataTable['output_type'] = 'display_data';\n",
              "          await google.colab.output.renderOutput(dataTable, element);\n",
              "          const docLink = document.createElement('div');\n",
              "          docLink.innerHTML = docLinkHtml;\n",
              "          element.appendChild(docLink);\n",
              "        }\n",
              "      </script>\n",
              "    </div>\n",
              "  </div>\n",
              "  "
            ]
          },
          "metadata": {},
          "execution_count": 3
        }
      ]
    },
    {
      "cell_type": "code",
      "source": [
        "# Column Names\n",
        "\n",
        "df.columns"
      ],
      "metadata": {
        "colab": {
          "base_uri": "https://localhost:8080/"
        },
        "id": "R3HIIi2yHT_B",
        "outputId": "023ff49c-fe80-42d5-dcfb-2c5d5e932a42"
      },
      "execution_count": 4,
      "outputs": [
        {
          "output_type": "execute_result",
          "data": {
            "text/plain": [
              "Index(['DATE', 'AUSBOT', 'AUSBP', 'AUSBR', 'AUSCA', 'AUSCARS', 'AUSCBBS',\n",
              "       'AUSCCON', 'AUSCCPI', 'AUSCF', 'AUSCI', 'AUSCINF', 'AUSCNCN',\n",
              "       'AUSCONPMI', 'AUSCOP', 'AUSCP', 'AUSCPI', 'AUSCPIC', 'AUSCSP', 'AUSCU',\n",
              "       'AUSCUR', 'AUSDINV', 'AUSDPINC', 'AUSEC', 'AUSEDBT', 'AUSEMP',\n",
              "       'AUSEXPX', 'AUSEXVOL', 'AUSFDI', 'AUSFER', 'AUSFTEMP', 'AUSG',\n",
              "       'AUSGAGR', 'AUSGBGT', 'AUSGBVL', 'AUSGCP', 'AUSGD', 'AUSGDG', 'AUSGFCF',\n",
              "       'AUSGNP', 'AUSGOLD', 'AUSGPC', 'AUSGSP', 'AUSGYLD', 'AUSHOOD',\n",
              "       'AUSIBOR', 'AUSIMPX', 'AUSIMVOL', 'AUSINFEX', 'AUSJOBADV', 'AUSJVAC',\n",
              "       'AUSLC', 'AUSLEI', 'AUSLFPR', 'AUSLPS', 'AUSM1', 'AUSM3', 'AUSMANWG',\n",
              "       'AUSMKT', 'AUSMP', 'AUSMPMI', 'AUSNHS', 'AUSOIL', 'AUSPPI', 'AUSPPIC',\n",
              "       'AUSPROD', 'AUSPSAV', 'AUSPTEMP', 'AUSRSY', 'AUSSPMI', 'AUSSSR',\n",
              "       'AUSSSRC', 'AUSSSRE', 'AUSTOT', 'AUSTOUR', 'AUSTVS', 'AUSUNP', 'AUSUNR',\n",
              "       'AUSUNRY', 'AUSWAGE'],\n",
              "      dtype='object')"
            ]
          },
          "metadata": {},
          "execution_count": 4
        }
      ]
    },
    {
      "cell_type": "code",
      "source": [
        "# Dropping DATE column to perform required analysis\n",
        "\n",
        "df.drop(['DATE'], axis=1, inplace=True)"
      ],
      "metadata": {
        "id": "rbfEIroYHbie"
      },
      "execution_count": 5,
      "outputs": []
    },
    {
      "cell_type": "code",
      "source": [
        "# Checking Data Quality\n",
        "\n",
        "df.info()"
      ],
      "metadata": {
        "colab": {
          "base_uri": "https://localhost:8080/"
        },
        "id": "sIQl-2Z8Hm15",
        "outputId": "83115073-48b7-4005-d232-a0adcf6c6e60"
      },
      "execution_count": 6,
      "outputs": [
        {
          "output_type": "stream",
          "name": "stdout",
          "text": [
            "<class 'pandas.core.frame.DataFrame'>\n",
            "RangeIndex: 108 entries, 0 to 107\n",
            "Data columns (total 79 columns):\n",
            " #   Column     Non-Null Count  Dtype  \n",
            "---  ------     --------------  -----  \n",
            " 0   AUSBOT     108 non-null    int64  \n",
            " 1   AUSBP      108 non-null    float64\n",
            " 2   AUSBR      108 non-null    int64  \n",
            " 3   AUSCA      108 non-null    int64  \n",
            " 4   AUSCARS    108 non-null    float64\n",
            " 5   AUSCBBS    108 non-null    float64\n",
            " 6   AUSCCON    108 non-null    float64\n",
            " 7   AUSCCPI    108 non-null    float64\n",
            " 8   AUSCF      108 non-null    int64  \n",
            " 9   AUSCI      108 non-null    float64\n",
            " 10  AUSCINF    108 non-null    float64\n",
            " 11  AUSCNCN    108 non-null    float64\n",
            " 12  AUSCONPMI  108 non-null    float64\n",
            " 13  AUSCOP     108 non-null    float64\n",
            " 14  AUSCP      108 non-null    int64  \n",
            " 15  AUSCPI     108 non-null    float64\n",
            " 16  AUSCPIC    108 non-null    float64\n",
            " 17  AUSCSP     108 non-null    int64  \n",
            " 18  AUSCU      108 non-null    float64\n",
            " 19  AUSCUR     108 non-null    float64\n",
            " 20  AUSDINV    108 non-null    int64  \n",
            " 21  AUSDPINC   108 non-null    int64  \n",
            " 22  AUSEC      108 non-null    int64  \n",
            " 23  AUSEDBT    108 non-null    int64  \n",
            " 24  AUSEMP     108 non-null    float64\n",
            " 25  AUSEXPX    108 non-null    float64\n",
            " 26  AUSEXVOL   108 non-null    int64  \n",
            " 27  AUSFDI     108 non-null    int64  \n",
            " 28  AUSFER     108 non-null    int64  \n",
            " 29  AUSFTEMP   108 non-null    int64  \n",
            " 30  AUSG       108 non-null    float64\n",
            " 31  AUSGAGR    108 non-null    float64\n",
            " 32  AUSGBGT    108 non-null    float64\n",
            " 33  AUSGBVL    108 non-null    int64  \n",
            " 34  AUSGCP     108 non-null    int64  \n",
            " 35  AUSGD      108 non-null    float64\n",
            " 36  AUSGDG     108 non-null    float64\n",
            " 37  AUSGFCF    108 non-null    int64  \n",
            " 38  AUSGNP     108 non-null    int64  \n",
            " 39  AUSGOLD    108 non-null    float64\n",
            " 40  AUSGPC     108 non-null    float64\n",
            " 41  AUSGSP     108 non-null    int64  \n",
            " 42  AUSGYLD    108 non-null    float64\n",
            " 43  AUSHOOD    108 non-null    float64\n",
            " 44  AUSIBOR    108 non-null    float64\n",
            " 45  AUSIMPX    108 non-null    float64\n",
            " 46  AUSIMVOL   108 non-null    int64  \n",
            " 47  AUSINFEX   108 non-null    float64\n",
            " 48  AUSJOBADV  108 non-null    int64  \n",
            " 49  AUSJVAC    108 non-null    float64\n",
            " 50  AUSLC      108 non-null    float64\n",
            " 51  AUSLEI     108 non-null    float64\n",
            " 52  AUSLFPR    108 non-null    float64\n",
            " 53  AUSLPS     108 non-null    float64\n",
            " 54  AUSM1      108 non-null    float64\n",
            " 55  AUSM3      108 non-null    float64\n",
            " 56  AUSMANWG   108 non-null    float64\n",
            " 57  AUSMKT     108 non-null    float64\n",
            " 58  AUSMP      108 non-null    float64\n",
            " 59  AUSMPMI    108 non-null    float64\n",
            " 60  AUSNHS     108 non-null    int64  \n",
            " 61  AUSOIL     108 non-null    int64  \n",
            " 62  AUSPPI     108 non-null    float64\n",
            " 63  AUSPPIC    108 non-null    float64\n",
            " 64  AUSPROD    108 non-null    float64\n",
            " 65  AUSPSAV    108 non-null    float64\n",
            " 66  AUSPTEMP   108 non-null    int64  \n",
            " 67  AUSRSY     108 non-null    float64\n",
            " 68  AUSSPMI    108 non-null    float64\n",
            " 69  AUSSSR     108 non-null    float64\n",
            " 70  AUSSSRC    108 non-null    float64\n",
            " 71  AUSSSRE    108 non-null    float64\n",
            " 72  AUSTOT     108 non-null    float64\n",
            " 73  AUSTOUR    108 non-null    int64  \n",
            " 74  AUSTVS     108 non-null    int64  \n",
            " 75  AUSUNP     108 non-null    float64\n",
            " 76  AUSUNR     108 non-null    float64\n",
            " 77  AUSUNRY    108 non-null    float64\n",
            " 78  AUSWAGE    108 non-null    float64\n",
            "dtypes: float64(53), int64(26)\n",
            "memory usage: 66.8 KB\n"
          ]
        }
      ]
    },
    {
      "cell_type": "markdown",
      "source": [
        "79 variables, non-null"
      ],
      "metadata": {
        "id": "PlA0iJNxHwX1"
      }
    },
    {
      "cell_type": "code",
      "source": [
        "# Correlation\n",
        "\n",
        "df_corr = df.corr(method='pearson')\n",
        "df_corr"
      ],
      "metadata": {
        "colab": {
          "base_uri": "https://localhost:8080/",
          "height": 419
        },
        "id": "8EjP3dLoHrX0",
        "outputId": "3dbe1893-280d-41c4-e3af-9d8613b3c5e2"
      },
      "execution_count": 7,
      "outputs": [
        {
          "output_type": "execute_result",
          "data": {
            "text/plain": [
              "           AUSBOT     AUSBP     AUSBR     AUSCA   AUSCARS   AUSCBBS   AUSCCON  \\\n",
              "AUSBOT   1.000000 -0.049577 -0.285529  0.851858  0.116214  0.057328  0.164736   \n",
              "AUSBP   -0.049577  1.000000  0.146819 -0.075708 -0.043676 -0.040529 -0.052526   \n",
              "AUSBR   -0.285529  0.146819  1.000000 -0.270888 -0.450486 -0.429340 -0.444138   \n",
              "AUSCA    0.851858 -0.075708 -0.270888  1.000000  0.036358 -0.041539  0.053395   \n",
              "AUSCARS  0.116214 -0.043676 -0.450486  0.036358  1.000000  0.951512  0.988917   \n",
              "...           ...       ...       ...       ...       ...       ...       ...   \n",
              "AUSTVS  -0.162709  0.041424 -0.143428 -0.181777  0.596513  0.607516  0.578633   \n",
              "AUSUNP  -0.265187  0.040695 -0.280130 -0.193341  0.741753  0.788386  0.683064   \n",
              "AUSUNR  -0.441104  0.086537 -0.108595 -0.273534  0.370449  0.464622  0.289028   \n",
              "AUSUNRY -0.312728  0.117865 -0.182588 -0.150231  0.396041  0.484571  0.330488   \n",
              "AUSWAGE  0.037718 -0.027973 -0.371526  0.007190  0.973560  0.905811  0.956107   \n",
              "\n",
              "          AUSCCPI     AUSCF     AUSCI  ...    AUSSSR   AUSSSRC   AUSSSRE  \\\n",
              "AUSBOT   0.082134 -0.707841  0.575253  ...  0.097549  0.097549  0.025098   \n",
              "AUSBP   -0.040752  0.104626 -0.071565  ... -0.070444 -0.070444 -0.074074   \n",
              "AUSBR   -0.421120  0.284957 -0.433386  ... -0.464373 -0.464373 -0.382314   \n",
              "AUSCA    0.011237 -0.825081  0.383428  ... -0.040959 -0.040959 -0.146830   \n",
              "AUSCARS  0.993122 -0.106201  0.511008  ...  0.932038  0.932038  0.870471   \n",
              "...           ...       ...       ...  ...       ...       ...       ...   \n",
              "AUSTVS   0.603369  0.148725  0.200826  ...  0.537051  0.537051  0.516949   \n",
              "AUSUNP   0.764876  0.083583 -0.027993  ...  0.661712  0.661712  0.615630   \n",
              "AUSUNR   0.401166  0.149195 -0.375094  ...  0.305182  0.305182  0.275781   \n",
              "AUSUNRY  0.422622  0.028451 -0.255926  ...  0.350746  0.350746  0.305363   \n",
              "AUSWAGE  0.983917 -0.027233  0.388838  ...  0.849675  0.849675  0.786525   \n",
              "\n",
              "           AUSTOT   AUSTOUR    AUSTVS    AUSUNP    AUSUNR   AUSUNRY   AUSWAGE  \n",
              "AUSBOT   0.234859  0.212904 -0.162709 -0.265187 -0.441104 -0.312728  0.037718  \n",
              "AUSBP    0.014940 -0.052592  0.041424  0.040695  0.086537  0.117865 -0.027973  \n",
              "AUSBR    0.356332 -0.495279 -0.143428 -0.280130 -0.108595 -0.182588 -0.371526  \n",
              "AUSCA    0.340831  0.109635 -0.181777 -0.193341 -0.273534 -0.150231  0.007190  \n",
              "AUSCARS -0.813380  0.704862  0.596513  0.741753  0.370449  0.396041  0.973560  \n",
              "...           ...       ...       ...       ...       ...       ...       ...  \n",
              "AUSTVS  -0.567870  0.400303  1.000000  0.589034  0.407925  0.345080  0.622232  \n",
              "AUSUNP  -0.744095  0.475458  0.589034  1.000000  0.893258  0.823477  0.776416  \n",
              "AUSUNR  -0.489044  0.177588  0.407925  0.893258  1.000000  0.880011  0.430736  \n",
              "AUSUNRY -0.424704  0.203487  0.345080  0.823477  0.880011  1.000000  0.432354  \n",
              "AUSWAGE -0.782436  0.683144  0.622232  0.776416  0.430736  0.432354  1.000000  \n",
              "\n",
              "[79 rows x 79 columns]"
            ],
            "text/html": [
              "\n",
              "  <div id=\"df-122bacb6-6c95-4593-a564-9d97c3e9b845\">\n",
              "    <div class=\"colab-df-container\">\n",
              "      <div>\n",
              "<style scoped>\n",
              "    .dataframe tbody tr th:only-of-type {\n",
              "        vertical-align: middle;\n",
              "    }\n",
              "\n",
              "    .dataframe tbody tr th {\n",
              "        vertical-align: top;\n",
              "    }\n",
              "\n",
              "    .dataframe thead th {\n",
              "        text-align: right;\n",
              "    }\n",
              "</style>\n",
              "<table border=\"1\" class=\"dataframe\">\n",
              "  <thead>\n",
              "    <tr style=\"text-align: right;\">\n",
              "      <th></th>\n",
              "      <th>AUSBOT</th>\n",
              "      <th>AUSBP</th>\n",
              "      <th>AUSBR</th>\n",
              "      <th>AUSCA</th>\n",
              "      <th>AUSCARS</th>\n",
              "      <th>AUSCBBS</th>\n",
              "      <th>AUSCCON</th>\n",
              "      <th>AUSCCPI</th>\n",
              "      <th>AUSCF</th>\n",
              "      <th>AUSCI</th>\n",
              "      <th>...</th>\n",
              "      <th>AUSSSR</th>\n",
              "      <th>AUSSSRC</th>\n",
              "      <th>AUSSSRE</th>\n",
              "      <th>AUSTOT</th>\n",
              "      <th>AUSTOUR</th>\n",
              "      <th>AUSTVS</th>\n",
              "      <th>AUSUNP</th>\n",
              "      <th>AUSUNR</th>\n",
              "      <th>AUSUNRY</th>\n",
              "      <th>AUSWAGE</th>\n",
              "    </tr>\n",
              "  </thead>\n",
              "  <tbody>\n",
              "    <tr>\n",
              "      <th>AUSBOT</th>\n",
              "      <td>1.000000</td>\n",
              "      <td>-0.049577</td>\n",
              "      <td>-0.285529</td>\n",
              "      <td>0.851858</td>\n",
              "      <td>0.116214</td>\n",
              "      <td>0.057328</td>\n",
              "      <td>0.164736</td>\n",
              "      <td>0.082134</td>\n",
              "      <td>-0.707841</td>\n",
              "      <td>0.575253</td>\n",
              "      <td>...</td>\n",
              "      <td>0.097549</td>\n",
              "      <td>0.097549</td>\n",
              "      <td>0.025098</td>\n",
              "      <td>0.234859</td>\n",
              "      <td>0.212904</td>\n",
              "      <td>-0.162709</td>\n",
              "      <td>-0.265187</td>\n",
              "      <td>-0.441104</td>\n",
              "      <td>-0.312728</td>\n",
              "      <td>0.037718</td>\n",
              "    </tr>\n",
              "    <tr>\n",
              "      <th>AUSBP</th>\n",
              "      <td>-0.049577</td>\n",
              "      <td>1.000000</td>\n",
              "      <td>0.146819</td>\n",
              "      <td>-0.075708</td>\n",
              "      <td>-0.043676</td>\n",
              "      <td>-0.040529</td>\n",
              "      <td>-0.052526</td>\n",
              "      <td>-0.040752</td>\n",
              "      <td>0.104626</td>\n",
              "      <td>-0.071565</td>\n",
              "      <td>...</td>\n",
              "      <td>-0.070444</td>\n",
              "      <td>-0.070444</td>\n",
              "      <td>-0.074074</td>\n",
              "      <td>0.014940</td>\n",
              "      <td>-0.052592</td>\n",
              "      <td>0.041424</td>\n",
              "      <td>0.040695</td>\n",
              "      <td>0.086537</td>\n",
              "      <td>0.117865</td>\n",
              "      <td>-0.027973</td>\n",
              "    </tr>\n",
              "    <tr>\n",
              "      <th>AUSBR</th>\n",
              "      <td>-0.285529</td>\n",
              "      <td>0.146819</td>\n",
              "      <td>1.000000</td>\n",
              "      <td>-0.270888</td>\n",
              "      <td>-0.450486</td>\n",
              "      <td>-0.429340</td>\n",
              "      <td>-0.444138</td>\n",
              "      <td>-0.421120</td>\n",
              "      <td>0.284957</td>\n",
              "      <td>-0.433386</td>\n",
              "      <td>...</td>\n",
              "      <td>-0.464373</td>\n",
              "      <td>-0.464373</td>\n",
              "      <td>-0.382314</td>\n",
              "      <td>0.356332</td>\n",
              "      <td>-0.495279</td>\n",
              "      <td>-0.143428</td>\n",
              "      <td>-0.280130</td>\n",
              "      <td>-0.108595</td>\n",
              "      <td>-0.182588</td>\n",
              "      <td>-0.371526</td>\n",
              "    </tr>\n",
              "    <tr>\n",
              "      <th>AUSCA</th>\n",
              "      <td>0.851858</td>\n",
              "      <td>-0.075708</td>\n",
              "      <td>-0.270888</td>\n",
              "      <td>1.000000</td>\n",
              "      <td>0.036358</td>\n",
              "      <td>-0.041539</td>\n",
              "      <td>0.053395</td>\n",
              "      <td>0.011237</td>\n",
              "      <td>-0.825081</td>\n",
              "      <td>0.383428</td>\n",
              "      <td>...</td>\n",
              "      <td>-0.040959</td>\n",
              "      <td>-0.040959</td>\n",
              "      <td>-0.146830</td>\n",
              "      <td>0.340831</td>\n",
              "      <td>0.109635</td>\n",
              "      <td>-0.181777</td>\n",
              "      <td>-0.193341</td>\n",
              "      <td>-0.273534</td>\n",
              "      <td>-0.150231</td>\n",
              "      <td>0.007190</td>\n",
              "    </tr>\n",
              "    <tr>\n",
              "      <th>AUSCARS</th>\n",
              "      <td>0.116214</td>\n",
              "      <td>-0.043676</td>\n",
              "      <td>-0.450486</td>\n",
              "      <td>0.036358</td>\n",
              "      <td>1.000000</td>\n",
              "      <td>0.951512</td>\n",
              "      <td>0.988917</td>\n",
              "      <td>0.993122</td>\n",
              "      <td>-0.106201</td>\n",
              "      <td>0.511008</td>\n",
              "      <td>...</td>\n",
              "      <td>0.932038</td>\n",
              "      <td>0.932038</td>\n",
              "      <td>0.870471</td>\n",
              "      <td>-0.813380</td>\n",
              "      <td>0.704862</td>\n",
              "      <td>0.596513</td>\n",
              "      <td>0.741753</td>\n",
              "      <td>0.370449</td>\n",
              "      <td>0.396041</td>\n",
              "      <td>0.973560</td>\n",
              "    </tr>\n",
              "    <tr>\n",
              "      <th>...</th>\n",
              "      <td>...</td>\n",
              "      <td>...</td>\n",
              "      <td>...</td>\n",
              "      <td>...</td>\n",
              "      <td>...</td>\n",
              "      <td>...</td>\n",
              "      <td>...</td>\n",
              "      <td>...</td>\n",
              "      <td>...</td>\n",
              "      <td>...</td>\n",
              "      <td>...</td>\n",
              "      <td>...</td>\n",
              "      <td>...</td>\n",
              "      <td>...</td>\n",
              "      <td>...</td>\n",
              "      <td>...</td>\n",
              "      <td>...</td>\n",
              "      <td>...</td>\n",
              "      <td>...</td>\n",
              "      <td>...</td>\n",
              "      <td>...</td>\n",
              "    </tr>\n",
              "    <tr>\n",
              "      <th>AUSTVS</th>\n",
              "      <td>-0.162709</td>\n",
              "      <td>0.041424</td>\n",
              "      <td>-0.143428</td>\n",
              "      <td>-0.181777</td>\n",
              "      <td>0.596513</td>\n",
              "      <td>0.607516</td>\n",
              "      <td>0.578633</td>\n",
              "      <td>0.603369</td>\n",
              "      <td>0.148725</td>\n",
              "      <td>0.200826</td>\n",
              "      <td>...</td>\n",
              "      <td>0.537051</td>\n",
              "      <td>0.537051</td>\n",
              "      <td>0.516949</td>\n",
              "      <td>-0.567870</td>\n",
              "      <td>0.400303</td>\n",
              "      <td>1.000000</td>\n",
              "      <td>0.589034</td>\n",
              "      <td>0.407925</td>\n",
              "      <td>0.345080</td>\n",
              "      <td>0.622232</td>\n",
              "    </tr>\n",
              "    <tr>\n",
              "      <th>AUSUNP</th>\n",
              "      <td>-0.265187</td>\n",
              "      <td>0.040695</td>\n",
              "      <td>-0.280130</td>\n",
              "      <td>-0.193341</td>\n",
              "      <td>0.741753</td>\n",
              "      <td>0.788386</td>\n",
              "      <td>0.683064</td>\n",
              "      <td>0.764876</td>\n",
              "      <td>0.083583</td>\n",
              "      <td>-0.027993</td>\n",
              "      <td>...</td>\n",
              "      <td>0.661712</td>\n",
              "      <td>0.661712</td>\n",
              "      <td>0.615630</td>\n",
              "      <td>-0.744095</td>\n",
              "      <td>0.475458</td>\n",
              "      <td>0.589034</td>\n",
              "      <td>1.000000</td>\n",
              "      <td>0.893258</td>\n",
              "      <td>0.823477</td>\n",
              "      <td>0.776416</td>\n",
              "    </tr>\n",
              "    <tr>\n",
              "      <th>AUSUNR</th>\n",
              "      <td>-0.441104</td>\n",
              "      <td>0.086537</td>\n",
              "      <td>-0.108595</td>\n",
              "      <td>-0.273534</td>\n",
              "      <td>0.370449</td>\n",
              "      <td>0.464622</td>\n",
              "      <td>0.289028</td>\n",
              "      <td>0.401166</td>\n",
              "      <td>0.149195</td>\n",
              "      <td>-0.375094</td>\n",
              "      <td>...</td>\n",
              "      <td>0.305182</td>\n",
              "      <td>0.305182</td>\n",
              "      <td>0.275781</td>\n",
              "      <td>-0.489044</td>\n",
              "      <td>0.177588</td>\n",
              "      <td>0.407925</td>\n",
              "      <td>0.893258</td>\n",
              "      <td>1.000000</td>\n",
              "      <td>0.880011</td>\n",
              "      <td>0.430736</td>\n",
              "    </tr>\n",
              "    <tr>\n",
              "      <th>AUSUNRY</th>\n",
              "      <td>-0.312728</td>\n",
              "      <td>0.117865</td>\n",
              "      <td>-0.182588</td>\n",
              "      <td>-0.150231</td>\n",
              "      <td>0.396041</td>\n",
              "      <td>0.484571</td>\n",
              "      <td>0.330488</td>\n",
              "      <td>0.422622</td>\n",
              "      <td>0.028451</td>\n",
              "      <td>-0.255926</td>\n",
              "      <td>...</td>\n",
              "      <td>0.350746</td>\n",
              "      <td>0.350746</td>\n",
              "      <td>0.305363</td>\n",
              "      <td>-0.424704</td>\n",
              "      <td>0.203487</td>\n",
              "      <td>0.345080</td>\n",
              "      <td>0.823477</td>\n",
              "      <td>0.880011</td>\n",
              "      <td>1.000000</td>\n",
              "      <td>0.432354</td>\n",
              "    </tr>\n",
              "    <tr>\n",
              "      <th>AUSWAGE</th>\n",
              "      <td>0.037718</td>\n",
              "      <td>-0.027973</td>\n",
              "      <td>-0.371526</td>\n",
              "      <td>0.007190</td>\n",
              "      <td>0.973560</td>\n",
              "      <td>0.905811</td>\n",
              "      <td>0.956107</td>\n",
              "      <td>0.983917</td>\n",
              "      <td>-0.027233</td>\n",
              "      <td>0.388838</td>\n",
              "      <td>...</td>\n",
              "      <td>0.849675</td>\n",
              "      <td>0.849675</td>\n",
              "      <td>0.786525</td>\n",
              "      <td>-0.782436</td>\n",
              "      <td>0.683144</td>\n",
              "      <td>0.622232</td>\n",
              "      <td>0.776416</td>\n",
              "      <td>0.430736</td>\n",
              "      <td>0.432354</td>\n",
              "      <td>1.000000</td>\n",
              "    </tr>\n",
              "  </tbody>\n",
              "</table>\n",
              "<p>79 rows × 79 columns</p>\n",
              "</div>\n",
              "      <button class=\"colab-df-convert\" onclick=\"convertToInteractive('df-122bacb6-6c95-4593-a564-9d97c3e9b845')\"\n",
              "              title=\"Convert this dataframe to an interactive table.\"\n",
              "              style=\"display:none;\">\n",
              "        \n",
              "  <svg xmlns=\"http://www.w3.org/2000/svg\" height=\"24px\"viewBox=\"0 0 24 24\"\n",
              "       width=\"24px\">\n",
              "    <path d=\"M0 0h24v24H0V0z\" fill=\"none\"/>\n",
              "    <path d=\"M18.56 5.44l.94 2.06.94-2.06 2.06-.94-2.06-.94-.94-2.06-.94 2.06-2.06.94zm-11 1L8.5 8.5l.94-2.06 2.06-.94-2.06-.94L8.5 2.5l-.94 2.06-2.06.94zm10 10l.94 2.06.94-2.06 2.06-.94-2.06-.94-.94-2.06-.94 2.06-2.06.94z\"/><path d=\"M17.41 7.96l-1.37-1.37c-.4-.4-.92-.59-1.43-.59-.52 0-1.04.2-1.43.59L10.3 9.45l-7.72 7.72c-.78.78-.78 2.05 0 2.83L4 21.41c.39.39.9.59 1.41.59.51 0 1.02-.2 1.41-.59l7.78-7.78 2.81-2.81c.8-.78.8-2.07 0-2.86zM5.41 20L4 18.59l7.72-7.72 1.47 1.35L5.41 20z\"/>\n",
              "  </svg>\n",
              "      </button>\n",
              "      \n",
              "  <style>\n",
              "    .colab-df-container {\n",
              "      display:flex;\n",
              "      flex-wrap:wrap;\n",
              "      gap: 12px;\n",
              "    }\n",
              "\n",
              "    .colab-df-convert {\n",
              "      background-color: #E8F0FE;\n",
              "      border: none;\n",
              "      border-radius: 50%;\n",
              "      cursor: pointer;\n",
              "      display: none;\n",
              "      fill: #1967D2;\n",
              "      height: 32px;\n",
              "      padding: 0 0 0 0;\n",
              "      width: 32px;\n",
              "    }\n",
              "\n",
              "    .colab-df-convert:hover {\n",
              "      background-color: #E2EBFA;\n",
              "      box-shadow: 0px 1px 2px rgba(60, 64, 67, 0.3), 0px 1px 3px 1px rgba(60, 64, 67, 0.15);\n",
              "      fill: #174EA6;\n",
              "    }\n",
              "\n",
              "    [theme=dark] .colab-df-convert {\n",
              "      background-color: #3B4455;\n",
              "      fill: #D2E3FC;\n",
              "    }\n",
              "\n",
              "    [theme=dark] .colab-df-convert:hover {\n",
              "      background-color: #434B5C;\n",
              "      box-shadow: 0px 1px 3px 1px rgba(0, 0, 0, 0.15);\n",
              "      filter: drop-shadow(0px 1px 2px rgba(0, 0, 0, 0.3));\n",
              "      fill: #FFFFFF;\n",
              "    }\n",
              "  </style>\n",
              "\n",
              "      <script>\n",
              "        const buttonEl =\n",
              "          document.querySelector('#df-122bacb6-6c95-4593-a564-9d97c3e9b845 button.colab-df-convert');\n",
              "        buttonEl.style.display =\n",
              "          google.colab.kernel.accessAllowed ? 'block' : 'none';\n",
              "\n",
              "        async function convertToInteractive(key) {\n",
              "          const element = document.querySelector('#df-122bacb6-6c95-4593-a564-9d97c3e9b845');\n",
              "          const dataTable =\n",
              "            await google.colab.kernel.invokeFunction('convertToInteractive',\n",
              "                                                     [key], {});\n",
              "          if (!dataTable) return;\n",
              "\n",
              "          const docLinkHtml = 'Like what you see? Visit the ' +\n",
              "            '<a target=\"_blank\" href=https://colab.research.google.com/notebooks/data_table.ipynb>data table notebook</a>'\n",
              "            + ' to learn more about interactive tables.';\n",
              "          element.innerHTML = '';\n",
              "          dataTable['output_type'] = 'display_data';\n",
              "          await google.colab.output.renderOutput(dataTable, element);\n",
              "          const docLink = document.createElement('div');\n",
              "          docLink.innerHTML = docLinkHtml;\n",
              "          element.appendChild(docLink);\n",
              "        }\n",
              "      </script>\n",
              "    </div>\n",
              "  </div>\n",
              "  "
            ]
          },
          "metadata": {},
          "execution_count": 7
        }
      ]
    },
    {
      "cell_type": "code",
      "source": [
        "# Bartlett Test\n",
        "\n",
        "from factor_analyzer.factor_analyzer import calculate_bartlett_sphericity\n",
        "chi_square_value,p_value=calculate_bartlett_sphericity(df)\n",
        "chi_square_value, p_value"
      ],
      "metadata": {
        "colab": {
          "base_uri": "https://localhost:8080/"
        },
        "id": "eO94H_3YH_R7",
        "outputId": "445d49dc-084b-4c8d-8bf4-7b9daafcadf1"
      },
      "execution_count": 8,
      "outputs": [
        {
          "output_type": "execute_result",
          "data": {
            "text/plain": [
              "(42487.86566074874, 0.0)"
            ]
          },
          "metadata": {},
          "execution_count": 8
        }
      ]
    },
    {
      "cell_type": "markdown",
      "source": [
        "P value < 0.005 hence the data is not a identity matrix, there lies correlation in the data"
      ],
      "metadata": {
        "id": "9ruIusi-ItqL"
      }
    },
    {
      "cell_type": "code",
      "source": [
        "# KMO Test\n",
        "\n",
        "from factor_analyzer.factor_analyzer import calculate_kmo\n",
        "kmo_all,kmo_model=calculate_kmo(df)\n",
        "kmo_model"
      ],
      "metadata": {
        "colab": {
          "base_uri": "https://localhost:8080/"
        },
        "id": "UUUTsTMJIUF5",
        "outputId": "0b2c536d-08ca-4c03-d147-c878d1c9578e"
      },
      "execution_count": 9,
      "outputs": [
        {
          "output_type": "execute_result",
          "data": {
            "text/plain": [
              "0.7099227362426941"
            ]
          },
          "metadata": {},
          "execution_count": 9
        }
      ]
    },
    {
      "cell_type": "markdown",
      "source": [
        "P value > 0.65 hence data is elgible for PCA testing"
      ],
      "metadata": {
        "id": "0u-oOEJaI6w1"
      }
    },
    {
      "cell_type": "code",
      "source": [
        "def pca_components(df):\n",
        "  \n",
        "  \n",
        "  scaler = StandardScaler()\n",
        "  scaled_data = scaler.fit_transform(df)\n",
        "  pca = PCA()\n",
        "  dataset_pca = pca.fit(scaled_data).transform(scaled_data)\n",
        "  eigen_values = pca.explained_variance_\n",
        "\n",
        "  components = 0\n",
        "\n",
        "  for i in eigen_values:\n",
        "    if i >= 1:\n",
        "      components += 1\n",
        "  \n",
        "  return (eigen_values, components, scaled_data)"
      ],
      "metadata": {
        "id": "0fE7IGyJhhF9"
      },
      "execution_count": 10,
      "outputs": []
    },
    {
      "cell_type": "code",
      "source": [
        "def varimax(factors, scaled_data):\n",
        "\n",
        "  labels = ['Factors' + str(i) for i in range(1, factors+1)]\n",
        "\n",
        "  fa = FactorAnalyzer()\n",
        "  fa.set_params(n_factors=factors, method='principal', rotation='varimax')\n",
        "  fa.fit(scaled_data)\n",
        "  loadings_data = pd.DataFrame(fa.loadings_, index=df.columns, columns=labels)\n",
        "  loadings_data = loadings_data.round(3)\n",
        "  loadings_data[loadings_data.abs() < 0.5] = None\n",
        "  loaded_variables = loadings_data.isnull().sum(axis=1)\n",
        "  \n",
        "  cum_variance = fa.get_factor_variance() \n",
        "\n",
        "  for loc, val in enumerate(loaded_variables):\n",
        "    if val != (factors -1):\n",
        "      statement = f\"Reiterate PCA test and drop variable {loaded_variables.index[loc]}\"\n",
        "      break\n",
        "    else:\n",
        "      statement = \"Everything looks good, proceed with ADF\"\n",
        "      continue\n",
        "\n",
        "\n",
        "  return (loadings_data, cum_variance, statement)"
      ],
      "metadata": {
        "id": "1RaxEuoOhmWI"
      },
      "execution_count": 11,
      "outputs": []
    },
    {
      "cell_type": "code",
      "source": [
        "e_v, factors, scaled_data = pca_components(df)\n",
        "print(f'No. of factors: {factors}')\n",
        "loadings_data, cum_variance, res = varimax(factors, scaled_data)\n",
        "print(res)"
      ],
      "metadata": {
        "colab": {
          "base_uri": "https://localhost:8080/"
        },
        "id": "IDwpPvZhhnJc",
        "outputId": "8b5112e2-3085-4f6b-bfeb-63d5ae5698b4"
      },
      "execution_count": 12,
      "outputs": [
        {
          "output_type": "stream",
          "name": "stdout",
          "text": [
            "No. of factors: 12\n",
            "Reiterate PCA test and drop variable AUSBR\n"
          ]
        }
      ]
    },
    {
      "cell_type": "code",
      "source": [
        "df.drop(['AUSBR'], axis=1, inplace=True)"
      ],
      "metadata": {
        "id": "1gOYxYK7hsXI"
      },
      "execution_count": 13,
      "outputs": []
    },
    {
      "cell_type": "code",
      "source": [
        "e_v, factors, scaled_data = pca_components(df)\n",
        "print(f'No. of factors: {factors}')\n",
        "loadings_data, cum_variance, res = varimax(factors, scaled_data)\n",
        "print(res)"
      ],
      "metadata": {
        "colab": {
          "base_uri": "https://localhost:8080/"
        },
        "id": "J3oTyVa_iqFL",
        "outputId": "c9ca6153-bc7f-477f-f412-62def314e80e"
      },
      "execution_count": 14,
      "outputs": [
        {
          "output_type": "stream",
          "name": "stdout",
          "text": [
            "No. of factors: 12\n",
            "Reiterate PCA test and drop variable AUSCI\n"
          ]
        }
      ]
    },
    {
      "cell_type": "code",
      "source": [
        "df.drop(['AUSCI'], axis=1, inplace=True)"
      ],
      "metadata": {
        "id": "Lqdps1Dpiul3"
      },
      "execution_count": 15,
      "outputs": []
    },
    {
      "cell_type": "code",
      "source": [
        "e_v, factors, scaled_data = pca_components(df)\n",
        "print(f'No. of factors: {factors}')\n",
        "loadings_data, cum_variance, res = varimax(factors, scaled_data)\n",
        "print(res)"
      ],
      "metadata": {
        "colab": {
          "base_uri": "https://localhost:8080/"
        },
        "id": "_e4SrimUi3I8",
        "outputId": "c6fe422b-bd54-437d-954c-37cba3d22aab"
      },
      "execution_count": 16,
      "outputs": [
        {
          "output_type": "stream",
          "name": "stdout",
          "text": [
            "No. of factors: 12\n",
            "Reiterate PCA test and drop variable AUSCONPMI\n"
          ]
        }
      ]
    },
    {
      "cell_type": "code",
      "source": [
        "df.drop(['AUSCONPMI'], axis=1, inplace=True)"
      ],
      "metadata": {
        "id": "zjY5JDJKi9fJ"
      },
      "execution_count": 17,
      "outputs": []
    },
    {
      "cell_type": "code",
      "source": [
        "e_v, factors, scaled_data = pca_components(df)\n",
        "print(f'No. of factors: {factors}')\n",
        "loadings_data, cum_variance, res = varimax(factors, scaled_data)\n",
        "print(res)"
      ],
      "metadata": {
        "colab": {
          "base_uri": "https://localhost:8080/"
        },
        "id": "Tg-9Z5QVjBJN",
        "outputId": "eb12d563-a859-4c89-8143-32b88a1fba42"
      },
      "execution_count": 18,
      "outputs": [
        {
          "output_type": "stream",
          "name": "stdout",
          "text": [
            "No. of factors: 12\n",
            "Reiterate PCA test and drop variable AUSCU\n"
          ]
        }
      ]
    },
    {
      "cell_type": "code",
      "source": [
        "df.drop(['AUSCU'], axis=1, inplace=True)"
      ],
      "metadata": {
        "id": "8u-0tdbFjCzB"
      },
      "execution_count": 19,
      "outputs": []
    },
    {
      "cell_type": "code",
      "source": [
        "e_v, factors, scaled_data = pca_components(df)\n",
        "print(f'No. of factors: {factors}')\n",
        "loadings_data, cum_variance, res = varimax(factors, scaled_data)\n",
        "print(res)"
      ],
      "metadata": {
        "colab": {
          "base_uri": "https://localhost:8080/"
        },
        "id": "ODPKlgjMjGMb",
        "outputId": "c9568e20-4dc4-4429-c62e-63854983cf88"
      },
      "execution_count": 20,
      "outputs": [
        {
          "output_type": "stream",
          "name": "stdout",
          "text": [
            "No. of factors: 11\n",
            "Reiterate PCA test and drop variable AUSCOP\n"
          ]
        }
      ]
    },
    {
      "cell_type": "code",
      "source": [
        "df.drop(['AUSCOP'], axis=1, inplace=True)"
      ],
      "metadata": {
        "id": "aXWz8brmjLAf"
      },
      "execution_count": 21,
      "outputs": []
    },
    {
      "cell_type": "code",
      "source": [
        "e_v, factors, scaled_data = pca_components(df)\n",
        "print(f'No. of factors: {factors}')\n",
        "loadings_data, cum_variance, res = varimax(factors, scaled_data)\n",
        "print(res)"
      ],
      "metadata": {
        "colab": {
          "base_uri": "https://localhost:8080/"
        },
        "id": "3efndpV0jNbU",
        "outputId": "83dbab12-b2cb-4377-cacb-be5c02edbd2d"
      },
      "execution_count": 22,
      "outputs": [
        {
          "output_type": "stream",
          "name": "stdout",
          "text": [
            "No. of factors: 11\n",
            "Reiterate PCA test and drop variable AUSCP\n"
          ]
        }
      ]
    },
    {
      "cell_type": "code",
      "source": [
        "df.drop(['AUSCP'], axis=1, inplace=True)"
      ],
      "metadata": {
        "id": "xf8GqlhYjP7P"
      },
      "execution_count": 23,
      "outputs": []
    },
    {
      "cell_type": "code",
      "source": [
        "e_v, factors, scaled_data = pca_components(df)\n",
        "print(f'No. of factors: {factors}')\n",
        "loadings_data, cum_variance, res = varimax(factors, scaled_data)\n",
        "print(res)"
      ],
      "metadata": {
        "colab": {
          "base_uri": "https://localhost:8080/"
        },
        "id": "7yKJvolfjRgn",
        "outputId": "c2c3a9d7-4cc9-4dbe-f09a-8972b9d17a74"
      },
      "execution_count": 24,
      "outputs": [
        {
          "output_type": "stream",
          "name": "stdout",
          "text": [
            "No. of factors: 11\n",
            "Reiterate PCA test and drop variable AUSFDI\n"
          ]
        }
      ]
    },
    {
      "cell_type": "code",
      "source": [
        "df.drop(['AUSFDI'], axis=1, inplace=True)"
      ],
      "metadata": {
        "id": "jH62odFSjSwW"
      },
      "execution_count": 25,
      "outputs": []
    },
    {
      "cell_type": "code",
      "source": [
        "e_v, factors, scaled_data = pca_components(df)\n",
        "print(f'No. of factors: {factors}')\n",
        "loadings_data, cum_variance, res = varimax(factors, scaled_data)\n",
        "print(res)"
      ],
      "metadata": {
        "colab": {
          "base_uri": "https://localhost:8080/"
        },
        "id": "XqSzzUk3jVZn",
        "outputId": "bacac401-b671-420b-b58d-14dbe7232cdc"
      },
      "execution_count": 26,
      "outputs": [
        {
          "output_type": "stream",
          "name": "stdout",
          "text": [
            "No. of factors: 11\n",
            "Reiterate PCA test and drop variable AUSFTEMP\n"
          ]
        }
      ]
    },
    {
      "cell_type": "code",
      "source": [
        "df.drop(['AUSFTEMP'], axis=1, inplace=True)"
      ],
      "metadata": {
        "id": "quTja-awjXp2"
      },
      "execution_count": 27,
      "outputs": []
    },
    {
      "cell_type": "code",
      "source": [
        "e_v, factors, scaled_data = pca_components(df)\n",
        "print(f'No. of factors: {factors}')\n",
        "loadings_data, cum_variance, res = varimax(factors, scaled_data)\n",
        "print(res)"
      ],
      "metadata": {
        "colab": {
          "base_uri": "https://localhost:8080/"
        },
        "id": "PJXii5ymjaOT",
        "outputId": "d634f845-33fe-420e-ed58-588309873742"
      },
      "execution_count": 28,
      "outputs": [
        {
          "output_type": "stream",
          "name": "stdout",
          "text": [
            "No. of factors: 10\n",
            "Reiterate PCA test and drop variable AUSGBGT\n"
          ]
        }
      ]
    },
    {
      "cell_type": "code",
      "source": [
        "df.drop(['AUSGBGT'], axis=1, inplace=True)"
      ],
      "metadata": {
        "id": "m90FuY2ljbKO"
      },
      "execution_count": 29,
      "outputs": []
    },
    {
      "cell_type": "code",
      "source": [
        "e_v, factors, scaled_data = pca_components(df)\n",
        "print(f'No. of factors: {factors}')\n",
        "loadings_data, cum_variance, res = varimax(factors, scaled_data)\n",
        "print(res)"
      ],
      "metadata": {
        "colab": {
          "base_uri": "https://localhost:8080/"
        },
        "id": "vQeaKB4xjeMk",
        "outputId": "e163d9b8-14da-4df0-a85f-77cd26ce540d"
      },
      "execution_count": 30,
      "outputs": [
        {
          "output_type": "stream",
          "name": "stdout",
          "text": [
            "No. of factors: 10\n",
            "Reiterate PCA test and drop variable AUSGD\n"
          ]
        }
      ]
    },
    {
      "cell_type": "code",
      "source": [
        "df.drop(['AUSGD'], axis=1, inplace=True)"
      ],
      "metadata": {
        "id": "4jBSwAGAjfqn"
      },
      "execution_count": 31,
      "outputs": []
    },
    {
      "cell_type": "code",
      "source": [
        "e_v, factors, scaled_data = pca_components(df)\n",
        "print(f'No. of factors: {factors}')\n",
        "loadings_data, cum_variance, res= varimax(factors, scaled_data)\n",
        "print(res)"
      ],
      "metadata": {
        "colab": {
          "base_uri": "https://localhost:8080/"
        },
        "id": "9li5Sgt8ji_d",
        "outputId": "1696aa32-8370-41e1-e9ae-00ff6978501b"
      },
      "execution_count": 32,
      "outputs": [
        {
          "output_type": "stream",
          "name": "stdout",
          "text": [
            "No. of factors: 10\n",
            "Reiterate PCA test and drop variable AUSJVAC\n"
          ]
        }
      ]
    },
    {
      "cell_type": "code",
      "source": [
        "df.drop(['AUSJVAC'], axis=1, inplace=True)"
      ],
      "metadata": {
        "id": "bt0S205DjkFH"
      },
      "execution_count": 33,
      "outputs": []
    },
    {
      "cell_type": "code",
      "source": [
        "e_v, factors, scaled_data = pca_components(df)\n",
        "print(f'No. of factors: {factors}')\n",
        "loadings_data, cum_variance, res = varimax(factors, scaled_data)\n",
        "print(res)"
      ],
      "metadata": {
        "colab": {
          "base_uri": "https://localhost:8080/"
        },
        "id": "QX06r4JYjnJF",
        "outputId": "0cb17c67-7947-4093-bcff-5b20a13dfd79"
      },
      "execution_count": 34,
      "outputs": [
        {
          "output_type": "stream",
          "name": "stdout",
          "text": [
            "No. of factors: 10\n",
            "Reiterate PCA test and drop variable AUSLC\n"
          ]
        }
      ]
    },
    {
      "cell_type": "code",
      "source": [
        "df.drop(['AUSLC'], axis=1, inplace=True)"
      ],
      "metadata": {
        "id": "-QvdEnDtjojD"
      },
      "execution_count": 35,
      "outputs": []
    },
    {
      "cell_type": "code",
      "source": [
        "e_v, factors, scaled_data = pca_components(df)\n",
        "print(f'No. of factors: {factors}')\n",
        "loadings_data, cum_variance, res = varimax(factors, scaled_data)\n",
        "print(res)"
      ],
      "metadata": {
        "colab": {
          "base_uri": "https://localhost:8080/"
        },
        "id": "4yISGju9jtBp",
        "outputId": "7fec929e-e7eb-4c01-fc72-ce0826a06b33"
      },
      "execution_count": 36,
      "outputs": [
        {
          "output_type": "stream",
          "name": "stdout",
          "text": [
            "No. of factors: 10\n",
            "Reiterate PCA test and drop variable AUSLEI\n"
          ]
        }
      ]
    },
    {
      "cell_type": "code",
      "source": [
        "df.drop(['AUSLEI'], axis=1, inplace=True)"
      ],
      "metadata": {
        "id": "twc_WnGajuV1"
      },
      "execution_count": 37,
      "outputs": []
    },
    {
      "cell_type": "code",
      "source": [
        "e_v, factors, scaled_data = pca_components(df)\n",
        "print(f'No. of factors: {factors}')\n",
        "loadings_data, cum_variance, res = varimax(factors, scaled_data)\n",
        "print(res)"
      ],
      "metadata": {
        "colab": {
          "base_uri": "https://localhost:8080/"
        },
        "id": "PchqN6rrjw9C",
        "outputId": "c534a3c4-ec5d-453f-c33a-7428e561f694"
      },
      "execution_count": 38,
      "outputs": [
        {
          "output_type": "stream",
          "name": "stdout",
          "text": [
            "No. of factors: 10\n",
            "Reiterate PCA test and drop variable AUSNHS\n"
          ]
        }
      ]
    },
    {
      "cell_type": "code",
      "source": [
        "df.drop(['AUSNHS'], axis=1, inplace=True)"
      ],
      "metadata": {
        "id": "EOH6D1Hvjyjw"
      },
      "execution_count": 39,
      "outputs": []
    },
    {
      "cell_type": "code",
      "source": [
        "e_v, factors, scaled_data = pca_components(df)\n",
        "print(f'No. of factors: {factors}')\n",
        "loadings_data, cum_variance, res = varimax(factors, scaled_data)\n",
        "print(res)"
      ],
      "metadata": {
        "colab": {
          "base_uri": "https://localhost:8080/"
        },
        "id": "Vx-Sbp3kj1j9",
        "outputId": "d6666527-3381-4a54-c960-b42c8b0cc74d"
      },
      "execution_count": 40,
      "outputs": [
        {
          "output_type": "stream",
          "name": "stdout",
          "text": [
            "No. of factors: 10\n",
            "Reiterate PCA test and drop variable AUSINFEX\n"
          ]
        }
      ]
    },
    {
      "cell_type": "code",
      "source": [
        "df.drop(['AUSINFEX'], axis=1, inplace=True)"
      ],
      "metadata": {
        "id": "OjDXvLNEj3KH"
      },
      "execution_count": 41,
      "outputs": []
    },
    {
      "cell_type": "code",
      "source": [
        "e_v, factors, scaled_data = pca_components(df)\n",
        "print(f'No. of factors: {factors}')\n",
        "loadings_data, cum_variance, res = varimax(factors, scaled_data)\n",
        "print(res)"
      ],
      "metadata": {
        "colab": {
          "base_uri": "https://localhost:8080/"
        },
        "id": "mBZ8e1uKj6J7",
        "outputId": "a85d5279-b86e-4fac-ca12-c98d1bd19d0f"
      },
      "execution_count": 42,
      "outputs": [
        {
          "output_type": "stream",
          "name": "stdout",
          "text": [
            "No. of factors: 9\n",
            "Reiterate PCA test and drop variable AUSPROD\n"
          ]
        }
      ]
    },
    {
      "cell_type": "code",
      "source": [
        "df.drop(['AUSPROD'], axis=1, inplace=True)"
      ],
      "metadata": {
        "id": "lu2StoYfj7l8"
      },
      "execution_count": 43,
      "outputs": []
    },
    {
      "cell_type": "code",
      "source": [
        "e_v, factors, scaled_data = pca_components(df)\n",
        "print(f'No. of factors: {factors}')\n",
        "loadings_data, cum_variance, res = varimax(factors, scaled_data)\n",
        "print(res)"
      ],
      "metadata": {
        "colab": {
          "base_uri": "https://localhost:8080/"
        },
        "id": "1WjeB4FDj-FS",
        "outputId": "b79589db-4d5a-488c-eb32-740ea8f3e627"
      },
      "execution_count": 44,
      "outputs": [
        {
          "output_type": "stream",
          "name": "stdout",
          "text": [
            "No. of factors: 9\n",
            "Reiterate PCA test and drop variable AUSUNP\n"
          ]
        }
      ]
    },
    {
      "cell_type": "code",
      "source": [
        "df.drop(['AUSUNP'], axis=1, inplace=True)"
      ],
      "metadata": {
        "id": "z_-MpkvYj-6j"
      },
      "execution_count": 45,
      "outputs": []
    },
    {
      "cell_type": "code",
      "source": [
        "e_v, factors, scaled_data = pca_components(df)\n",
        "print(f'No. of factors: {factors}')\n",
        "loadings_data, cum_variance, res = varimax(factors, scaled_data)\n",
        "print(res)"
      ],
      "metadata": {
        "colab": {
          "base_uri": "https://localhost:8080/"
        },
        "id": "GFyctDYikBmS",
        "outputId": "955da387-bcc2-4e07-dd9c-679a4a311390"
      },
      "execution_count": 46,
      "outputs": [
        {
          "output_type": "stream",
          "name": "stdout",
          "text": [
            "No. of factors: 9\n",
            "Everything looks good, proceed with ADF\n"
          ]
        }
      ]
    },
    {
      "cell_type": "code",
      "source": [
        "loadings_data"
      ],
      "metadata": {
        "colab": {
          "base_uri": "https://localhost:8080/",
          "height": 419
        },
        "id": "6F-tXmlJkCiQ",
        "outputId": "86299605-269e-4881-9657-d680ef566738"
      },
      "execution_count": 47,
      "outputs": [
        {
          "output_type": "execute_result",
          "data": {
            "text/plain": [
              "         Factors1  Factors2  Factors3  Factors4  Factors5  Factors6  Factors7  \\\n",
              "AUSBOT        NaN       NaN       NaN     0.827       NaN       NaN       NaN   \n",
              "AUSBP         NaN       NaN       NaN       NaN       NaN       NaN       NaN   \n",
              "AUSCA         NaN       NaN       NaN     0.930       NaN       NaN       NaN   \n",
              "AUSCARS     0.990       NaN       NaN       NaN       NaN       NaN       NaN   \n",
              "AUSCBBS     0.949       NaN       NaN       NaN       NaN       NaN       NaN   \n",
              "...           ...       ...       ...       ...       ...       ...       ...   \n",
              "AUSTOUR     0.740       NaN       NaN       NaN       NaN       NaN       NaN   \n",
              "AUSTVS      0.586       NaN       NaN       NaN       NaN       NaN       NaN   \n",
              "AUSUNR        NaN    -0.864       NaN       NaN       NaN       NaN       NaN   \n",
              "AUSUNRY       NaN    -0.798       NaN       NaN       NaN       NaN       NaN   \n",
              "AUSWAGE     0.962       NaN       NaN       NaN       NaN       NaN       NaN   \n",
              "\n",
              "         Factors8  Factors9  \n",
              "AUSBOT        NaN       NaN  \n",
              "AUSBP         NaN    -0.745  \n",
              "AUSCA         NaN       NaN  \n",
              "AUSCARS       NaN       NaN  \n",
              "AUSCBBS       NaN       NaN  \n",
              "...           ...       ...  \n",
              "AUSTOUR       NaN       NaN  \n",
              "AUSTVS        NaN       NaN  \n",
              "AUSUNR        NaN       NaN  \n",
              "AUSUNRY       NaN       NaN  \n",
              "AUSWAGE       NaN       NaN  \n",
              "\n",
              "[62 rows x 9 columns]"
            ],
            "text/html": [
              "\n",
              "  <div id=\"df-07061f23-dbbc-4eb1-bbbf-192125826eec\">\n",
              "    <div class=\"colab-df-container\">\n",
              "      <div>\n",
              "<style scoped>\n",
              "    .dataframe tbody tr th:only-of-type {\n",
              "        vertical-align: middle;\n",
              "    }\n",
              "\n",
              "    .dataframe tbody tr th {\n",
              "        vertical-align: top;\n",
              "    }\n",
              "\n",
              "    .dataframe thead th {\n",
              "        text-align: right;\n",
              "    }\n",
              "</style>\n",
              "<table border=\"1\" class=\"dataframe\">\n",
              "  <thead>\n",
              "    <tr style=\"text-align: right;\">\n",
              "      <th></th>\n",
              "      <th>Factors1</th>\n",
              "      <th>Factors2</th>\n",
              "      <th>Factors3</th>\n",
              "      <th>Factors4</th>\n",
              "      <th>Factors5</th>\n",
              "      <th>Factors6</th>\n",
              "      <th>Factors7</th>\n",
              "      <th>Factors8</th>\n",
              "      <th>Factors9</th>\n",
              "    </tr>\n",
              "  </thead>\n",
              "  <tbody>\n",
              "    <tr>\n",
              "      <th>AUSBOT</th>\n",
              "      <td>NaN</td>\n",
              "      <td>NaN</td>\n",
              "      <td>NaN</td>\n",
              "      <td>0.827</td>\n",
              "      <td>NaN</td>\n",
              "      <td>NaN</td>\n",
              "      <td>NaN</td>\n",
              "      <td>NaN</td>\n",
              "      <td>NaN</td>\n",
              "    </tr>\n",
              "    <tr>\n",
              "      <th>AUSBP</th>\n",
              "      <td>NaN</td>\n",
              "      <td>NaN</td>\n",
              "      <td>NaN</td>\n",
              "      <td>NaN</td>\n",
              "      <td>NaN</td>\n",
              "      <td>NaN</td>\n",
              "      <td>NaN</td>\n",
              "      <td>NaN</td>\n",
              "      <td>-0.745</td>\n",
              "    </tr>\n",
              "    <tr>\n",
              "      <th>AUSCA</th>\n",
              "      <td>NaN</td>\n",
              "      <td>NaN</td>\n",
              "      <td>NaN</td>\n",
              "      <td>0.930</td>\n",
              "      <td>NaN</td>\n",
              "      <td>NaN</td>\n",
              "      <td>NaN</td>\n",
              "      <td>NaN</td>\n",
              "      <td>NaN</td>\n",
              "    </tr>\n",
              "    <tr>\n",
              "      <th>AUSCARS</th>\n",
              "      <td>0.990</td>\n",
              "      <td>NaN</td>\n",
              "      <td>NaN</td>\n",
              "      <td>NaN</td>\n",
              "      <td>NaN</td>\n",
              "      <td>NaN</td>\n",
              "      <td>NaN</td>\n",
              "      <td>NaN</td>\n",
              "      <td>NaN</td>\n",
              "    </tr>\n",
              "    <tr>\n",
              "      <th>AUSCBBS</th>\n",
              "      <td>0.949</td>\n",
              "      <td>NaN</td>\n",
              "      <td>NaN</td>\n",
              "      <td>NaN</td>\n",
              "      <td>NaN</td>\n",
              "      <td>NaN</td>\n",
              "      <td>NaN</td>\n",
              "      <td>NaN</td>\n",
              "      <td>NaN</td>\n",
              "    </tr>\n",
              "    <tr>\n",
              "      <th>...</th>\n",
              "      <td>...</td>\n",
              "      <td>...</td>\n",
              "      <td>...</td>\n",
              "      <td>...</td>\n",
              "      <td>...</td>\n",
              "      <td>...</td>\n",
              "      <td>...</td>\n",
              "      <td>...</td>\n",
              "      <td>...</td>\n",
              "    </tr>\n",
              "    <tr>\n",
              "      <th>AUSTOUR</th>\n",
              "      <td>0.740</td>\n",
              "      <td>NaN</td>\n",
              "      <td>NaN</td>\n",
              "      <td>NaN</td>\n",
              "      <td>NaN</td>\n",
              "      <td>NaN</td>\n",
              "      <td>NaN</td>\n",
              "      <td>NaN</td>\n",
              "      <td>NaN</td>\n",
              "    </tr>\n",
              "    <tr>\n",
              "      <th>AUSTVS</th>\n",
              "      <td>0.586</td>\n",
              "      <td>NaN</td>\n",
              "      <td>NaN</td>\n",
              "      <td>NaN</td>\n",
              "      <td>NaN</td>\n",
              "      <td>NaN</td>\n",
              "      <td>NaN</td>\n",
              "      <td>NaN</td>\n",
              "      <td>NaN</td>\n",
              "    </tr>\n",
              "    <tr>\n",
              "      <th>AUSUNR</th>\n",
              "      <td>NaN</td>\n",
              "      <td>-0.864</td>\n",
              "      <td>NaN</td>\n",
              "      <td>NaN</td>\n",
              "      <td>NaN</td>\n",
              "      <td>NaN</td>\n",
              "      <td>NaN</td>\n",
              "      <td>NaN</td>\n",
              "      <td>NaN</td>\n",
              "    </tr>\n",
              "    <tr>\n",
              "      <th>AUSUNRY</th>\n",
              "      <td>NaN</td>\n",
              "      <td>-0.798</td>\n",
              "      <td>NaN</td>\n",
              "      <td>NaN</td>\n",
              "      <td>NaN</td>\n",
              "      <td>NaN</td>\n",
              "      <td>NaN</td>\n",
              "      <td>NaN</td>\n",
              "      <td>NaN</td>\n",
              "    </tr>\n",
              "    <tr>\n",
              "      <th>AUSWAGE</th>\n",
              "      <td>0.962</td>\n",
              "      <td>NaN</td>\n",
              "      <td>NaN</td>\n",
              "      <td>NaN</td>\n",
              "      <td>NaN</td>\n",
              "      <td>NaN</td>\n",
              "      <td>NaN</td>\n",
              "      <td>NaN</td>\n",
              "      <td>NaN</td>\n",
              "    </tr>\n",
              "  </tbody>\n",
              "</table>\n",
              "<p>62 rows × 9 columns</p>\n",
              "</div>\n",
              "      <button class=\"colab-df-convert\" onclick=\"convertToInteractive('df-07061f23-dbbc-4eb1-bbbf-192125826eec')\"\n",
              "              title=\"Convert this dataframe to an interactive table.\"\n",
              "              style=\"display:none;\">\n",
              "        \n",
              "  <svg xmlns=\"http://www.w3.org/2000/svg\" height=\"24px\"viewBox=\"0 0 24 24\"\n",
              "       width=\"24px\">\n",
              "    <path d=\"M0 0h24v24H0V0z\" fill=\"none\"/>\n",
              "    <path d=\"M18.56 5.44l.94 2.06.94-2.06 2.06-.94-2.06-.94-.94-2.06-.94 2.06-2.06.94zm-11 1L8.5 8.5l.94-2.06 2.06-.94-2.06-.94L8.5 2.5l-.94 2.06-2.06.94zm10 10l.94 2.06.94-2.06 2.06-.94-2.06-.94-.94-2.06-.94 2.06-2.06.94z\"/><path d=\"M17.41 7.96l-1.37-1.37c-.4-.4-.92-.59-1.43-.59-.52 0-1.04.2-1.43.59L10.3 9.45l-7.72 7.72c-.78.78-.78 2.05 0 2.83L4 21.41c.39.39.9.59 1.41.59.51 0 1.02-.2 1.41-.59l7.78-7.78 2.81-2.81c.8-.78.8-2.07 0-2.86zM5.41 20L4 18.59l7.72-7.72 1.47 1.35L5.41 20z\"/>\n",
              "  </svg>\n",
              "      </button>\n",
              "      \n",
              "  <style>\n",
              "    .colab-df-container {\n",
              "      display:flex;\n",
              "      flex-wrap:wrap;\n",
              "      gap: 12px;\n",
              "    }\n",
              "\n",
              "    .colab-df-convert {\n",
              "      background-color: #E8F0FE;\n",
              "      border: none;\n",
              "      border-radius: 50%;\n",
              "      cursor: pointer;\n",
              "      display: none;\n",
              "      fill: #1967D2;\n",
              "      height: 32px;\n",
              "      padding: 0 0 0 0;\n",
              "      width: 32px;\n",
              "    }\n",
              "\n",
              "    .colab-df-convert:hover {\n",
              "      background-color: #E2EBFA;\n",
              "      box-shadow: 0px 1px 2px rgba(60, 64, 67, 0.3), 0px 1px 3px 1px rgba(60, 64, 67, 0.15);\n",
              "      fill: #174EA6;\n",
              "    }\n",
              "\n",
              "    [theme=dark] .colab-df-convert {\n",
              "      background-color: #3B4455;\n",
              "      fill: #D2E3FC;\n",
              "    }\n",
              "\n",
              "    [theme=dark] .colab-df-convert:hover {\n",
              "      background-color: #434B5C;\n",
              "      box-shadow: 0px 1px 3px 1px rgba(0, 0, 0, 0.15);\n",
              "      filter: drop-shadow(0px 1px 2px rgba(0, 0, 0, 0.3));\n",
              "      fill: #FFFFFF;\n",
              "    }\n",
              "  </style>\n",
              "\n",
              "      <script>\n",
              "        const buttonEl =\n",
              "          document.querySelector('#df-07061f23-dbbc-4eb1-bbbf-192125826eec button.colab-df-convert');\n",
              "        buttonEl.style.display =\n",
              "          google.colab.kernel.accessAllowed ? 'block' : 'none';\n",
              "\n",
              "        async function convertToInteractive(key) {\n",
              "          const element = document.querySelector('#df-07061f23-dbbc-4eb1-bbbf-192125826eec');\n",
              "          const dataTable =\n",
              "            await google.colab.kernel.invokeFunction('convertToInteractive',\n",
              "                                                     [key], {});\n",
              "          if (!dataTable) return;\n",
              "\n",
              "          const docLinkHtml = 'Like what you see? Visit the ' +\n",
              "            '<a target=\"_blank\" href=https://colab.research.google.com/notebooks/data_table.ipynb>data table notebook</a>'\n",
              "            + ' to learn more about interactive tables.';\n",
              "          element.innerHTML = '';\n",
              "          dataTable['output_type'] = 'display_data';\n",
              "          await google.colab.output.renderOutput(dataTable, element);\n",
              "          const docLink = document.createElement('div');\n",
              "          docLink.innerHTML = docLinkHtml;\n",
              "          element.appendChild(docLink);\n",
              "        }\n",
              "      </script>\n",
              "    </div>\n",
              "  </div>\n",
              "  "
            ]
          },
          "metadata": {},
          "execution_count": 47
        }
      ]
    },
    {
      "cell_type": "code",
      "source": [
        "loadings_data.to_excel('belongingness9.xlsx')"
      ],
      "metadata": {
        "id": "LKfGHXfZpbzJ"
      },
      "execution_count": 48,
      "outputs": []
    },
    {
      "cell_type": "code",
      "source": [
        "# Using the Kaiser Criterion, the no. of Components are selected\n",
        "\n",
        "f = []\n",
        "nf = []\n",
        "for i in e_v :\n",
        "  if (i >= 1) :\n",
        "    print(i)\n",
        "    f.append(round(i,4))\n",
        "    nf.append(round(i,4))\n",
        "  else:\n",
        "    f.append(None)\n",
        "    nf.append(round(i,4))\n",
        "\n",
        "df_eigen = pd.DataFrame(columns=[\"Factors\",\"NFactors\"])\n",
        "df_eigen['Factors'] = f\n",
        "df_eigen['NFactors'] = nf\n",
        "df_eigen.index += 1\n",
        "df_eigen"
      ],
      "metadata": {
        "colab": {
          "base_uri": "https://localhost:8080/",
          "height": 572
        },
        "id": "Izz0rkNylaEw",
        "outputId": "84cb2994-e89a-470f-8a3c-d82e2ec854af"
      },
      "execution_count": 49,
      "outputs": [
        {
          "output_type": "stream",
          "name": "stdout",
          "text": [
            "33.733073191655976\n",
            "7.79192374500283\n",
            "3.9535939258291855\n",
            "2.9384815039981977\n",
            "1.7955712704832898\n",
            "1.5141498005680547\n",
            "1.358610272609094\n",
            "1.2137031352695342\n",
            "1.0332245069532764\n"
          ]
        },
        {
          "output_type": "execute_result",
          "data": {
            "text/plain": [
              "    Factors  NFactors\n",
              "1   33.7331   33.7331\n",
              "2    7.7919    7.7919\n",
              "3    3.9536    3.9536\n",
              "4    2.9385    2.9385\n",
              "5    1.7956    1.7956\n",
              "..      ...       ...\n",
              "58      NaN    0.0000\n",
              "59      NaN    0.0000\n",
              "60      NaN    0.0000\n",
              "61      NaN    0.0000\n",
              "62      NaN    0.0000\n",
              "\n",
              "[62 rows x 2 columns]"
            ],
            "text/html": [
              "\n",
              "  <div id=\"df-66aadb8f-a8db-4884-8d7f-5cfc4fe2453f\">\n",
              "    <div class=\"colab-df-container\">\n",
              "      <div>\n",
              "<style scoped>\n",
              "    .dataframe tbody tr th:only-of-type {\n",
              "        vertical-align: middle;\n",
              "    }\n",
              "\n",
              "    .dataframe tbody tr th {\n",
              "        vertical-align: top;\n",
              "    }\n",
              "\n",
              "    .dataframe thead th {\n",
              "        text-align: right;\n",
              "    }\n",
              "</style>\n",
              "<table border=\"1\" class=\"dataframe\">\n",
              "  <thead>\n",
              "    <tr style=\"text-align: right;\">\n",
              "      <th></th>\n",
              "      <th>Factors</th>\n",
              "      <th>NFactors</th>\n",
              "    </tr>\n",
              "  </thead>\n",
              "  <tbody>\n",
              "    <tr>\n",
              "      <th>1</th>\n",
              "      <td>33.7331</td>\n",
              "      <td>33.7331</td>\n",
              "    </tr>\n",
              "    <tr>\n",
              "      <th>2</th>\n",
              "      <td>7.7919</td>\n",
              "      <td>7.7919</td>\n",
              "    </tr>\n",
              "    <tr>\n",
              "      <th>3</th>\n",
              "      <td>3.9536</td>\n",
              "      <td>3.9536</td>\n",
              "    </tr>\n",
              "    <tr>\n",
              "      <th>4</th>\n",
              "      <td>2.9385</td>\n",
              "      <td>2.9385</td>\n",
              "    </tr>\n",
              "    <tr>\n",
              "      <th>5</th>\n",
              "      <td>1.7956</td>\n",
              "      <td>1.7956</td>\n",
              "    </tr>\n",
              "    <tr>\n",
              "      <th>...</th>\n",
              "      <td>...</td>\n",
              "      <td>...</td>\n",
              "    </tr>\n",
              "    <tr>\n",
              "      <th>58</th>\n",
              "      <td>NaN</td>\n",
              "      <td>0.0000</td>\n",
              "    </tr>\n",
              "    <tr>\n",
              "      <th>59</th>\n",
              "      <td>NaN</td>\n",
              "      <td>0.0000</td>\n",
              "    </tr>\n",
              "    <tr>\n",
              "      <th>60</th>\n",
              "      <td>NaN</td>\n",
              "      <td>0.0000</td>\n",
              "    </tr>\n",
              "    <tr>\n",
              "      <th>61</th>\n",
              "      <td>NaN</td>\n",
              "      <td>0.0000</td>\n",
              "    </tr>\n",
              "    <tr>\n",
              "      <th>62</th>\n",
              "      <td>NaN</td>\n",
              "      <td>0.0000</td>\n",
              "    </tr>\n",
              "  </tbody>\n",
              "</table>\n",
              "<p>62 rows × 2 columns</p>\n",
              "</div>\n",
              "      <button class=\"colab-df-convert\" onclick=\"convertToInteractive('df-66aadb8f-a8db-4884-8d7f-5cfc4fe2453f')\"\n",
              "              title=\"Convert this dataframe to an interactive table.\"\n",
              "              style=\"display:none;\">\n",
              "        \n",
              "  <svg xmlns=\"http://www.w3.org/2000/svg\" height=\"24px\"viewBox=\"0 0 24 24\"\n",
              "       width=\"24px\">\n",
              "    <path d=\"M0 0h24v24H0V0z\" fill=\"none\"/>\n",
              "    <path d=\"M18.56 5.44l.94 2.06.94-2.06 2.06-.94-2.06-.94-.94-2.06-.94 2.06-2.06.94zm-11 1L8.5 8.5l.94-2.06 2.06-.94-2.06-.94L8.5 2.5l-.94 2.06-2.06.94zm10 10l.94 2.06.94-2.06 2.06-.94-2.06-.94-.94-2.06-.94 2.06-2.06.94z\"/><path d=\"M17.41 7.96l-1.37-1.37c-.4-.4-.92-.59-1.43-.59-.52 0-1.04.2-1.43.59L10.3 9.45l-7.72 7.72c-.78.78-.78 2.05 0 2.83L4 21.41c.39.39.9.59 1.41.59.51 0 1.02-.2 1.41-.59l7.78-7.78 2.81-2.81c.8-.78.8-2.07 0-2.86zM5.41 20L4 18.59l7.72-7.72 1.47 1.35L5.41 20z\"/>\n",
              "  </svg>\n",
              "      </button>\n",
              "      \n",
              "  <style>\n",
              "    .colab-df-container {\n",
              "      display:flex;\n",
              "      flex-wrap:wrap;\n",
              "      gap: 12px;\n",
              "    }\n",
              "\n",
              "    .colab-df-convert {\n",
              "      background-color: #E8F0FE;\n",
              "      border: none;\n",
              "      border-radius: 50%;\n",
              "      cursor: pointer;\n",
              "      display: none;\n",
              "      fill: #1967D2;\n",
              "      height: 32px;\n",
              "      padding: 0 0 0 0;\n",
              "      width: 32px;\n",
              "    }\n",
              "\n",
              "    .colab-df-convert:hover {\n",
              "      background-color: #E2EBFA;\n",
              "      box-shadow: 0px 1px 2px rgba(60, 64, 67, 0.3), 0px 1px 3px 1px rgba(60, 64, 67, 0.15);\n",
              "      fill: #174EA6;\n",
              "    }\n",
              "\n",
              "    [theme=dark] .colab-df-convert {\n",
              "      background-color: #3B4455;\n",
              "      fill: #D2E3FC;\n",
              "    }\n",
              "\n",
              "    [theme=dark] .colab-df-convert:hover {\n",
              "      background-color: #434B5C;\n",
              "      box-shadow: 0px 1px 3px 1px rgba(0, 0, 0, 0.15);\n",
              "      filter: drop-shadow(0px 1px 2px rgba(0, 0, 0, 0.3));\n",
              "      fill: #FFFFFF;\n",
              "    }\n",
              "  </style>\n",
              "\n",
              "      <script>\n",
              "        const buttonEl =\n",
              "          document.querySelector('#df-66aadb8f-a8db-4884-8d7f-5cfc4fe2453f button.colab-df-convert');\n",
              "        buttonEl.style.display =\n",
              "          google.colab.kernel.accessAllowed ? 'block' : 'none';\n",
              "\n",
              "        async function convertToInteractive(key) {\n",
              "          const element = document.querySelector('#df-66aadb8f-a8db-4884-8d7f-5cfc4fe2453f');\n",
              "          const dataTable =\n",
              "            await google.colab.kernel.invokeFunction('convertToInteractive',\n",
              "                                                     [key], {});\n",
              "          if (!dataTable) return;\n",
              "\n",
              "          const docLinkHtml = 'Like what you see? Visit the ' +\n",
              "            '<a target=\"_blank\" href=https://colab.research.google.com/notebooks/data_table.ipynb>data table notebook</a>'\n",
              "            + ' to learn more about interactive tables.';\n",
              "          element.innerHTML = '';\n",
              "          dataTable['output_type'] = 'display_data';\n",
              "          await google.colab.output.renderOutput(dataTable, element);\n",
              "          const docLink = document.createElement('div');\n",
              "          docLink.innerHTML = docLinkHtml;\n",
              "          element.appendChild(docLink);\n",
              "        }\n",
              "      </script>\n",
              "    </div>\n",
              "  </div>\n",
              "  "
            ]
          },
          "metadata": {},
          "execution_count": 49
        }
      ]
    },
    {
      "cell_type": "code",
      "source": [
        "# Visualizing Eigen Values\n",
        "\n",
        "def scree_plot():\n",
        "  plt.figure(figsize=(10,10))\n",
        "  df_eigen['NFactors'].plot(color='r', marker='o', zorder=0)\n",
        "  plt.scatter(df_eigen.index, df_eigen['Factors'], zorder=1)\n",
        "  plt.axhline(y=1, linewidth=2, color='r', alpha=0.5)\n",
        "  plt.title('Scree Plot')\n",
        "  plt.xlabel('Factors')\n",
        "  plt.ylabel('Eigenvalue')\n",
        "  plt.grid()\n",
        "  plt.savefig('scree_plot_9.png')\n",
        "  plt.show()\n",
        "  \n",
        "\n",
        "scree_plot()"
      ],
      "metadata": {
        "colab": {
          "base_uri": "https://localhost:8080/",
          "height": 621
        },
        "id": "4mCwKOQ7mJCY",
        "outputId": "be4d1bd3-b822-420f-cd17-ae3172fe2184"
      },
      "execution_count": 75,
      "outputs": [
        {
          "output_type": "display_data",
          "data": {
            "text/plain": [
              "<Figure size 720x720 with 1 Axes>"
            ],
            "image/png": "[encoded data removed]"
          },
          "metadata": {
            "needs_background": "light"
          }
        }
      ]
    },
    {
      "cell_type": "code",
      "source": [
        "components_stats_summary = pd.DataFrame(cum_variance, index=['SS Loadings', 'Variance_Ratio','Cummulative_Variance'], columns=['Factor1','Factor2','Factor3','Factor4','Factor5','Factor6','Factor7','Factor8','Factor9'])\n",
        "components_stats_summary = components_stats_summary.transpose()\n",
        "components_stats_summary"
      ],
      "metadata": {
        "colab": {
          "base_uri": "https://localhost:8080/",
          "height": 328
        },
        "id": "kfx3VYvimO-c",
        "outputId": "ae2e311f-43e5-4fc6-c3f8-25460d3607e5"
      },
      "execution_count": 51,
      "outputs": [
        {
          "output_type": "execute_result",
          "data": {
            "text/plain": [
              "         SS Loadings  Variance_Ratio  Cummulative_Variance\n",
              "Factor1    33.178050        0.535130              0.535130\n",
              "Factor2     5.934956        0.095725              0.630855\n",
              "Factor3     3.467384        0.055926              0.686780\n",
              "Factor4     3.915329        0.063150              0.749931\n",
              "Factor5     2.078247        0.033520              0.783451\n",
              "Factor6     1.980951        0.031951              0.815402\n",
              "Factor7     1.442988        0.023274              0.838676\n",
              "Factor8     1.694644        0.027333              0.866009\n",
              "Factor9     1.127443        0.018185              0.884193"
            ],
            "text/html": [
              "\n",
              "  <div id=\"df-9e3ce196-baf4-4747-9194-b1581505f2cb\">\n",
              "    <div class=\"colab-df-container\">\n",
              "      <div>\n",
              "<style scoped>\n",
              "    .dataframe tbody tr th:only-of-type {\n",
              "        vertical-align: middle;\n",
              "    }\n",
              "\n",
              "    .dataframe tbody tr th {\n",
              "        vertical-align: top;\n",
              "    }\n",
              "\n",
              "    .dataframe thead th {\n",
              "        text-align: right;\n",
              "    }\n",
              "</style>\n",
              "<table border=\"1\" class=\"dataframe\">\n",
              "  <thead>\n",
              "    <tr style=\"text-align: right;\">\n",
              "      <th></th>\n",
              "      <th>SS Loadings</th>\n",
              "      <th>Variance_Ratio</th>\n",
              "      <th>Cummulative_Variance</th>\n",
              "    </tr>\n",
              "  </thead>\n",
              "  <tbody>\n",
              "    <tr>\n",
              "      <th>Factor1</th>\n",
              "      <td>33.178050</td>\n",
              "      <td>0.535130</td>\n",
              "      <td>0.535130</td>\n",
              "    </tr>\n",
              "    <tr>\n",
              "      <th>Factor2</th>\n",
              "      <td>5.934956</td>\n",
              "      <td>0.095725</td>\n",
              "      <td>0.630855</td>\n",
              "    </tr>\n",
              "    <tr>\n",
              "      <th>Factor3</th>\n",
              "      <td>3.467384</td>\n",
              "      <td>0.055926</td>\n",
              "      <td>0.686780</td>\n",
              "    </tr>\n",
              "    <tr>\n",
              "      <th>Factor4</th>\n",
              "      <td>3.915329</td>\n",
              "      <td>0.063150</td>\n",
              "      <td>0.749931</td>\n",
              "    </tr>\n",
              "    <tr>\n",
              "      <th>Factor5</th>\n",
              "      <td>2.078247</td>\n",
              "      <td>0.033520</td>\n",
              "      <td>0.783451</td>\n",
              "    </tr>\n",
              "    <tr>\n",
              "      <th>Factor6</th>\n",
              "      <td>1.980951</td>\n",
              "      <td>0.031951</td>\n",
              "      <td>0.815402</td>\n",
              "    </tr>\n",
              "    <tr>\n",
              "      <th>Factor7</th>\n",
              "      <td>1.442988</td>\n",
              "      <td>0.023274</td>\n",
              "      <td>0.838676</td>\n",
              "    </tr>\n",
              "    <tr>\n",
              "      <th>Factor8</th>\n",
              "      <td>1.694644</td>\n",
              "      <td>0.027333</td>\n",
              "      <td>0.866009</td>\n",
              "    </tr>\n",
              "    <tr>\n",
              "      <th>Factor9</th>\n",
              "      <td>1.127443</td>\n",
              "      <td>0.018185</td>\n",
              "      <td>0.884193</td>\n",
              "    </tr>\n",
              "  </tbody>\n",
              "</table>\n",
              "</div>\n",
              "      <button class=\"colab-df-convert\" onclick=\"convertToInteractive('df-9e3ce196-baf4-4747-9194-b1581505f2cb')\"\n",
              "              title=\"Convert this dataframe to an interactive table.\"\n",
              "              style=\"display:none;\">\n",
              "        \n",
              "  <svg xmlns=\"http://www.w3.org/2000/svg\" height=\"24px\"viewBox=\"0 0 24 24\"\n",
              "       width=\"24px\">\n",
              "    <path d=\"M0 0h24v24H0V0z\" fill=\"none\"/>\n",
              "    <path d=\"M18.56 5.44l.94 2.06.94-2.06 2.06-.94-2.06-.94-.94-2.06-.94 2.06-2.06.94zm-11 1L8.5 8.5l.94-2.06 2.06-.94-2.06-.94L8.5 2.5l-.94 2.06-2.06.94zm10 10l.94 2.06.94-2.06 2.06-.94-2.06-.94-.94-2.06-.94 2.06-2.06.94z\"/><path d=\"M17.41 7.96l-1.37-1.37c-.4-.4-.92-.59-1.43-.59-.52 0-1.04.2-1.43.59L10.3 9.45l-7.72 7.72c-.78.78-.78 2.05 0 2.83L4 21.41c.39.39.9.59 1.41.59.51 0 1.02-.2 1.41-.59l7.78-7.78 2.81-2.81c.8-.78.8-2.07 0-2.86zM5.41 20L4 18.59l7.72-7.72 1.47 1.35L5.41 20z\"/>\n",
              "  </svg>\n",
              "      </button>\n",
              "      \n",
              "  <style>\n",
              "    .colab-df-container {\n",
              "      display:flex;\n",
              "      flex-wrap:wrap;\n",
              "      gap: 12px;\n",
              "    }\n",
              "\n",
              "    .colab-df-convert {\n",
              "      background-color: #E8F0FE;\n",
              "      border: none;\n",
              "      border-radius: 50%;\n",
              "      cursor: pointer;\n",
              "      display: none;\n",
              "      fill: #1967D2;\n",
              "      height: 32px;\n",
              "      padding: 0 0 0 0;\n",
              "      width: 32px;\n",
              "    }\n",
              "\n",
              "    .colab-df-convert:hover {\n",
              "      background-color: #E2EBFA;\n",
              "      box-shadow: 0px 1px 2px rgba(60, 64, 67, 0.3), 0px 1px 3px 1px rgba(60, 64, 67, 0.15);\n",
              "      fill: #174EA6;\n",
              "    }\n",
              "\n",
              "    [theme=dark] .colab-df-convert {\n",
              "      background-color: #3B4455;\n",
              "      fill: #D2E3FC;\n",
              "    }\n",
              "\n",
              "    [theme=dark] .colab-df-convert:hover {\n",
              "      background-color: #434B5C;\n",
              "      box-shadow: 0px 1px 3px 1px rgba(0, 0, 0, 0.15);\n",
              "      filter: drop-shadow(0px 1px 2px rgba(0, 0, 0, 0.3));\n",
              "      fill: #FFFFFF;\n",
              "    }\n",
              "  </style>\n",
              "\n",
              "      <script>\n",
              "        const buttonEl =\n",
              "          document.querySelector('#df-9e3ce196-baf4-4747-9194-b1581505f2cb button.colab-df-convert');\n",
              "        buttonEl.style.display =\n",
              "          google.colab.kernel.accessAllowed ? 'block' : 'none';\n",
              "\n",
              "        async function convertToInteractive(key) {\n",
              "          const element = document.querySelector('#df-9e3ce196-baf4-4747-9194-b1581505f2cb');\n",
              "          const dataTable =\n",
              "            await google.colab.kernel.invokeFunction('convertToInteractive',\n",
              "                                                     [key], {});\n",
              "          if (!dataTable) return;\n",
              "\n",
              "          const docLinkHtml = 'Like what you see? Visit the ' +\n",
              "            '<a target=\"_blank\" href=https://colab.research.google.com/notebooks/data_table.ipynb>data table notebook</a>'\n",
              "            + ' to learn more about interactive tables.';\n",
              "          element.innerHTML = '';\n",
              "          dataTable['output_type'] = 'display_data';\n",
              "          await google.colab.output.renderOutput(dataTable, element);\n",
              "          const docLink = document.createElement('div');\n",
              "          docLink.innerHTML = docLinkHtml;\n",
              "          element.appendChild(docLink);\n",
              "        }\n",
              "      </script>\n",
              "    </div>\n",
              "  </div>\n",
              "  "
            ]
          },
          "metadata": {},
          "execution_count": 51
        }
      ]
    },
    {
      "cell_type": "code",
      "source": [
        "components_stats_summary.to_excel('components_stats_summary.xlsx')"
      ],
      "metadata": {
        "id": "bh4DGojuoc3D"
      },
      "execution_count": 52,
      "outputs": []
    },
    {
      "cell_type": "code",
      "source": [
        "Factor1 = [variable for row, variable in enumerate(loadings_data.index) if loadings_data.iloc[row,0] >= 0.5]\n",
        "Factor1"
      ],
      "metadata": {
        "colab": {
          "base_uri": "https://localhost:8080/"
        },
        "id": "INORvG_pp3Bd",
        "outputId": "db6598b7-50e1-40ab-9e80-6beca72a72a9"
      },
      "execution_count": 57,
      "outputs": [
        {
          "output_type": "execute_result",
          "data": {
            "text/plain": [
              "['AUSCARS',\n",
              " 'AUSCBBS',\n",
              " 'AUSCCON',\n",
              " 'AUSCCPI',\n",
              " 'AUSCPI',\n",
              " 'AUSCSP',\n",
              " 'AUSDPINC',\n",
              " 'AUSEDBT',\n",
              " 'AUSEMP',\n",
              " 'AUSEXVOL',\n",
              " 'AUSFER',\n",
              " 'AUSGCP',\n",
              " 'AUSGDG',\n",
              " 'AUSGNP',\n",
              " 'AUSGPC',\n",
              " 'AUSGSP',\n",
              " 'AUSIMPX',\n",
              " 'AUSIMVOL',\n",
              " 'AUSLPS',\n",
              " 'AUSM1',\n",
              " 'AUSM3',\n",
              " 'AUSMANWG',\n",
              " 'AUSMKT',\n",
              " 'AUSMPMI',\n",
              " 'AUSPPI',\n",
              " 'AUSSPMI',\n",
              " 'AUSSSR',\n",
              " 'AUSSSRC',\n",
              " 'AUSSSRE',\n",
              " 'AUSTOUR',\n",
              " 'AUSTVS',\n",
              " 'AUSWAGE']"
            ]
          },
          "metadata": {},
          "execution_count": 57
        }
      ]
    },
    {
      "cell_type": "code",
      "source": [
        "Factor2 = [variable for row, variable in enumerate(loadings_data.index) if loadings_data.iloc[row,1] >= 0.5]\n",
        "Factor2"
      ],
      "metadata": {
        "colab": {
          "base_uri": "https://localhost:8080/"
        },
        "id": "_Kf1FRbqrZxy",
        "outputId": "7922762e-f1a6-4a5d-b664-9d7ac9961358"
      },
      "execution_count": 59,
      "outputs": [
        {
          "output_type": "execute_result",
          "data": {
            "text/plain": [
              "['AUSJOBADV', 'AUSLFPR']"
            ]
          },
          "metadata": {},
          "execution_count": 59
        }
      ]
    },
    {
      "cell_type": "code",
      "source": [
        "Factor3 = [variable for row, variable in enumerate(loadings_data.index) if loadings_data.iloc[row,2] >= 0.5]\n",
        "Factor3"
      ],
      "metadata": {
        "colab": {
          "base_uri": "https://localhost:8080/"
        },
        "id": "m-jt3YXrv0zp",
        "outputId": "aabc43a0-758b-4033-d0d0-4e39ae1a96da"
      },
      "execution_count": 60,
      "outputs": [
        {
          "output_type": "execute_result",
          "data": {
            "text/plain": [
              "['AUSG', 'AUSGFCF']"
            ]
          },
          "metadata": {},
          "execution_count": 60
        }
      ]
    },
    {
      "cell_type": "code",
      "source": [
        "Factor4 = [variable for row, variable in enumerate(loadings_data.index) if loadings_data.iloc[row,3] >= 0.5]\n",
        "Factor4"
      ],
      "metadata": {
        "colab": {
          "base_uri": "https://localhost:8080/"
        },
        "id": "Fys1nRT0w8j4",
        "outputId": "d99c9d34-1503-409e-aaac-c39706bdcaaa"
      },
      "execution_count": 61,
      "outputs": [
        {
          "output_type": "execute_result",
          "data": {
            "text/plain": [
              "['AUSBOT', 'AUSCA', 'AUSEXPX']"
            ]
          },
          "metadata": {},
          "execution_count": 61
        }
      ]
    },
    {
      "cell_type": "code",
      "source": [
        "Factor5 = [variable for row, variable in enumerate(loadings_data.index) if loadings_data.iloc[row,4] >= 0.5]\n",
        "Factor5"
      ],
      "metadata": {
        "colab": {
          "base_uri": "https://localhost:8080/"
        },
        "id": "sxKkBEZczFzp",
        "outputId": "551634ba-aaee-4191-af26-b4b441ddc111"
      },
      "execution_count": 62,
      "outputs": [
        {
          "output_type": "execute_result",
          "data": {
            "text/plain": [
              "['AUSMP']"
            ]
          },
          "metadata": {},
          "execution_count": 62
        }
      ]
    },
    {
      "cell_type": "code",
      "source": [
        "Factor6 = [variable for row, variable in enumerate(loadings_data.index) if loadings_data.iloc[row,5] >= 0.5]\n",
        "Factor6"
      ],
      "metadata": {
        "colab": {
          "base_uri": "https://localhost:8080/"
        },
        "id": "JDKqV7arzKJM",
        "outputId": "88637b9d-3d6e-4081-94c1-086a99f16118"
      },
      "execution_count": 64,
      "outputs": [
        {
          "output_type": "execute_result",
          "data": {
            "text/plain": [
              "['AUSDINV', 'AUSGAGR']"
            ]
          },
          "metadata": {},
          "execution_count": 64
        }
      ]
    },
    {
      "cell_type": "code",
      "source": [
        "Factor7 = [variable for row, variable in enumerate(loadings_data.index) if loadings_data.iloc[row,6] >= 0.5]\n",
        "Factor7"
      ],
      "metadata": {
        "colab": {
          "base_uri": "https://localhost:8080/"
        },
        "id": "2KN6WohBzNpu",
        "outputId": "4d97101e-a4a9-4d55-814e-dd16cd2991ba"
      },
      "execution_count": 65,
      "outputs": [
        {
          "output_type": "execute_result",
          "data": {
            "text/plain": [
              "['AUSEC', 'AUSPTEMP']"
            ]
          },
          "metadata": {},
          "execution_count": 65
        }
      ]
    },
    {
      "cell_type": "code",
      "source": [
        "Factor8 = [variable for row, variable in enumerate(loadings_data.index) if loadings_data.iloc[row,7] >= 0.5]\n",
        "Factor8"
      ],
      "metadata": {
        "colab": {
          "base_uri": "https://localhost:8080/"
        },
        "id": "0jJmlIoizend",
        "outputId": "8fdc5af1-f180-4190-c771-229e593778c0"
      },
      "execution_count": 66,
      "outputs": [
        {
          "output_type": "execute_result",
          "data": {
            "text/plain": [
              "['AUSPPIC']"
            ]
          },
          "metadata": {},
          "execution_count": 66
        }
      ]
    },
    {
      "cell_type": "code",
      "source": [
        "Factor9 = [variable for row, variable in enumerate(loadings_data.index) if loadings_data.iloc[row,8] >= 0.5]\n",
        "Factor9"
      ],
      "metadata": {
        "colab": {
          "base_uri": "https://localhost:8080/"
        },
        "id": "4ZHXYOCSziHZ",
        "outputId": "96a6a9e2-4823-4070-e6d0-96637bd8fda5"
      },
      "execution_count": 68,
      "outputs": [
        {
          "output_type": "execute_result",
          "data": {
            "text/plain": [
              "['AUSGBVL']"
            ]
          },
          "metadata": {},
          "execution_count": 68
        }
      ]
    },
    {
      "cell_type": "code",
      "source": [
        "all_factors = pd.DataFrame([Factor1, Factor2, Factor3, Factor4, Factor5, Factor6, Factor7, Factor8, Factor9])\n",
        "all_factors = all_factors.transpose()\n",
        "all_factors.index += 1\n",
        "all_factors.set_axis(['Factor1','Factor2','Factror3','Factor4','Facor5','Factor6','Factor7','Factor8','Factor9'], axis='columns', inplace=True)\n",
        "all_factors"
      ],
      "metadata": {
        "colab": {
          "base_uri": "https://localhost:8080/",
          "height": 1000
        },
        "id": "45QP9ulSzmbY",
        "outputId": "f14d626e-5879-4f6c-d676-0e66a0702387"
      },
      "execution_count": 72,
      "outputs": [
        {
          "output_type": "execute_result",
          "data": {
            "text/plain": [
              "     Factor1    Factor2 Factror3  Factor4 Facor5  Factor6   Factor7  Factor8  \\\n",
              "1    AUSCARS  AUSJOBADV     AUSG   AUSBOT  AUSMP  AUSDINV     AUSEC  AUSPPIC   \n",
              "2    AUSCBBS    AUSLFPR  AUSGFCF    AUSCA   None  AUSGAGR  AUSPTEMP     None   \n",
              "3    AUSCCON       None     None  AUSEXPX   None     None      None     None   \n",
              "4    AUSCCPI       None     None     None   None     None      None     None   \n",
              "5     AUSCPI       None     None     None   None     None      None     None   \n",
              "6     AUSCSP       None     None     None   None     None      None     None   \n",
              "7   AUSDPINC       None     None     None   None     None      None     None   \n",
              "8    AUSEDBT       None     None     None   None     None      None     None   \n",
              "9     AUSEMP       None     None     None   None     None      None     None   \n",
              "10  AUSEXVOL       None     None     None   None     None      None     None   \n",
              "11    AUSFER       None     None     None   None     None      None     None   \n",
              "12    AUSGCP       None     None     None   None     None      None     None   \n",
              "13    AUSGDG       None     None     None   None     None      None     None   \n",
              "14    AUSGNP       None     None     None   None     None      None     None   \n",
              "15    AUSGPC       None     None     None   None     None      None     None   \n",
              "16    AUSGSP       None     None     None   None     None      None     None   \n",
              "17   AUSIMPX       None     None     None   None     None      None     None   \n",
              "18  AUSIMVOL       None     None     None   None     None      None     None   \n",
              "19    AUSLPS       None     None     None   None     None      None     None   \n",
              "20     AUSM1       None     None     None   None     None      None     None   \n",
              "21     AUSM3       None     None     None   None     None      None     None   \n",
              "22  AUSMANWG       None     None     None   None     None      None     None   \n",
              "23    AUSMKT       None     None     None   None     None      None     None   \n",
              "24   AUSMPMI       None     None     None   None     None      None     None   \n",
              "25    AUSPPI       None     None     None   None     None      None     None   \n",
              "26   AUSSPMI       None     None     None   None     None      None     None   \n",
              "27    AUSSSR       None     None     None   None     None      None     None   \n",
              "28   AUSSSRC       None     None     None   None     None      None     None   \n",
              "29   AUSSSRE       None     None     None   None     None      None     None   \n",
              "30   AUSTOUR       None     None     None   None     None      None     None   \n",
              "31    AUSTVS       None     None     None   None     None      None     None   \n",
              "32   AUSWAGE       None     None     None   None     None      None     None   \n",
              "\n",
              "    Factor9  \n",
              "1   AUSGBVL  \n",
              "2      None  \n",
              "3      None  \n",
              "4      None  \n",
              "5      None  \n",
              "6      None  \n",
              "7      None  \n",
              "8      None  \n",
              "9      None  \n",
              "10     None  \n",
              "11     None  \n",
              "12     None  \n",
              "13     None  \n",
              "14     None  \n",
              "15     None  \n",
              "16     None  \n",
              "17     None  \n",
              "18     None  \n",
              "19     None  \n",
              "20     None  \n",
              "21     None  \n",
              "22     None  \n",
              "23     None  \n",
              "24     None  \n",
              "25     None  \n",
              "26     None  \n",
              "27     None  \n",
              "28     None  \n",
              "29     None  \n",
              "30     None  \n",
              "31     None  \n",
              "32     None  "
            ],
            "text/html": [
              "\n",
              "  <div id=\"df-412d3baa-65c2-495a-a2ad-e06302794753\">\n",
              "    <div class=\"colab-df-container\">\n",
              "      <div>\n",
              "<style scoped>\n",
              "    .dataframe tbody tr th:only-of-type {\n",
              "        vertical-align: middle;\n",
              "    }\n",
              "\n",
              "    .dataframe tbody tr th {\n",
              "        vertical-align: top;\n",
              "    }\n",
              "\n",
              "    .dataframe thead th {\n",
              "        text-align: right;\n",
              "    }\n",
              "</style>\n",
              "<table border=\"1\" class=\"dataframe\">\n",
              "  <thead>\n",
              "    <tr style=\"text-align: right;\">\n",
              "      <th></th>\n",
              "      <th>Factor1</th>\n",
              "      <th>Factor2</th>\n",
              "      <th>Factror3</th>\n",
              "      <th>Factor4</th>\n",
              "      <th>Facor5</th>\n",
              "      <th>Factor6</th>\n",
              "      <th>Factor7</th>\n",
              "      <th>Factor8</th>\n",
              "      <th>Factor9</th>\n",
              "    </tr>\n",
              "  </thead>\n",
              "  <tbody>\n",
              "    <tr>\n",
              "      <th>1</th>\n",
              "      <td>AUSCARS</td>\n",
              "      <td>AUSJOBADV</td>\n",
              "      <td>AUSG</td>\n",
              "      <td>AUSBOT</td>\n",
              "      <td>AUSMP</td>\n",
              "      <td>AUSDINV</td>\n",
              "      <td>AUSEC</td>\n",
              "      <td>AUSPPIC</td>\n",
              "      <td>AUSGBVL</td>\n",
              "    </tr>\n",
              "    <tr>\n",
              "      <th>2</th>\n",
              "      <td>AUSCBBS</td>\n",
              "      <td>AUSLFPR</td>\n",
              "      <td>AUSGFCF</td>\n",
              "      <td>AUSCA</td>\n",
              "      <td>None</td>\n",
              "      <td>AUSGAGR</td>\n",
              "      <td>AUSPTEMP</td>\n",
              "      <td>None</td>\n",
              "      <td>None</td>\n",
              "    </tr>\n",
              "    <tr>\n",
              "      <th>3</th>\n",
              "      <td>AUSCCON</td>\n",
              "      <td>None</td>\n",
              "      <td>None</td>\n",
              "      <td>AUSEXPX</td>\n",
              "      <td>None</td>\n",
              "      <td>None</td>\n",
              "      <td>None</td>\n",
              "      <td>None</td>\n",
              "      <td>None</td>\n",
              "    </tr>\n",
              "    <tr>\n",
              "      <th>4</th>\n",
              "      <td>AUSCCPI</td>\n",
              "      <td>None</td>\n",
              "      <td>None</td>\n",
              "      <td>None</td>\n",
              "      <td>None</td>\n",
              "      <td>None</td>\n",
              "      <td>None</td>\n",
              "      <td>None</td>\n",
              "      <td>None</td>\n",
              "    </tr>\n",
              "    <tr>\n",
              "      <th>5</th>\n",
              "      <td>AUSCPI</td>\n",
              "      <td>None</td>\n",
              "      <td>None</td>\n",
              "      <td>None</td>\n",
              "      <td>None</td>\n",
              "      <td>None</td>\n",
              "      <td>None</td>\n",
              "      <td>None</td>\n",
              "      <td>None</td>\n",
              "    </tr>\n",
              "    <tr>\n",
              "      <th>6</th>\n",
              "      <td>AUSCSP</td>\n",
              "      <td>None</td>\n",
              "      <td>None</td>\n",
              "      <td>None</td>\n",
              "      <td>None</td>\n",
              "      <td>None</td>\n",
              "      <td>None</td>\n",
              "      <td>None</td>\n",
              "      <td>None</td>\n",
              "    </tr>\n",
              "    <tr>\n",
              "      <th>7</th>\n",
              "      <td>AUSDPINC</td>\n",
              "      <td>None</td>\n",
              "      <td>None</td>\n",
              "      <td>None</td>\n",
              "      <td>None</td>\n",
              "      <td>None</td>\n",
              "      <td>None</td>\n",
              "      <td>None</td>\n",
              "      <td>None</td>\n",
              "    </tr>\n",
              "    <tr>\n",
              "      <th>8</th>\n",
              "      <td>AUSEDBT</td>\n",
              "      <td>None</td>\n",
              "      <td>None</td>\n",
              "      <td>None</td>\n",
              "      <td>None</td>\n",
              "      <td>None</td>\n",
              "      <td>None</td>\n",
              "      <td>None</td>\n",
              "      <td>None</td>\n",
              "    </tr>\n",
              "    <tr>\n",
              "      <th>9</th>\n",
              "      <td>AUSEMP</td>\n",
              "      <td>None</td>\n",
              "      <td>None</td>\n",
              "      <td>None</td>\n",
              "      <td>None</td>\n",
              "      <td>None</td>\n",
              "      <td>None</td>\n",
              "      <td>None</td>\n",
              "      <td>None</td>\n",
              "    </tr>\n",
              "    <tr>\n",
              "      <th>10</th>\n",
              "      <td>AUSEXVOL</td>\n",
              "      <td>None</td>\n",
              "      <td>None</td>\n",
              "      <td>None</td>\n",
              "      <td>None</td>\n",
              "      <td>None</td>\n",
              "      <td>None</td>\n",
              "      <td>None</td>\n",
              "      <td>None</td>\n",
              "    </tr>\n",
              "    <tr>\n",
              "      <th>11</th>\n",
              "      <td>AUSFER</td>\n",
              "      <td>None</td>\n",
              "      <td>None</td>\n",
              "      <td>None</td>\n",
              "      <td>None</td>\n",
              "      <td>None</td>\n",
              "      <td>None</td>\n",
              "      <td>None</td>\n",
              "      <td>None</td>\n",
              "    </tr>\n",
              "    <tr>\n",
              "      <th>12</th>\n",
              "      <td>AUSGCP</td>\n",
              "      <td>None</td>\n",
              "      <td>None</td>\n",
              "      <td>None</td>\n",
              "      <td>None</td>\n",
              "      <td>None</td>\n",
              "      <td>None</td>\n",
              "      <td>None</td>\n",
              "      <td>None</td>\n",
              "    </tr>\n",
              "    <tr>\n",
              "      <th>13</th>\n",
              "      <td>AUSGDG</td>\n",
              "      <td>None</td>\n",
              "      <td>None</td>\n",
              "      <td>None</td>\n",
              "      <td>None</td>\n",
              "      <td>None</td>\n",
              "      <td>None</td>\n",
              "      <td>None</td>\n",
              "      <td>None</td>\n",
              "    </tr>\n",
              "    <tr>\n",
              "      <th>14</th>\n",
              "      <td>AUSGNP</td>\n",
              "      <td>None</td>\n",
              "      <td>None</td>\n",
              "      <td>None</td>\n",
              "      <td>None</td>\n",
              "      <td>None</td>\n",
              "      <td>None</td>\n",
              "      <td>None</td>\n",
              "      <td>None</td>\n",
              "    </tr>\n",
              "    <tr>\n",
              "      <th>15</th>\n",
              "      <td>AUSGPC</td>\n",
              "      <td>None</td>\n",
              "      <td>None</td>\n",
              "      <td>None</td>\n",
              "      <td>None</td>\n",
              "      <td>None</td>\n",
              "      <td>None</td>\n",
              "      <td>None</td>\n",
              "      <td>None</td>\n",
              "    </tr>\n",
              "    <tr>\n",
              "      <th>16</th>\n",
              "      <td>AUSGSP</td>\n",
              "      <td>None</td>\n",
              "      <td>None</td>\n",
              "      <td>None</td>\n",
              "      <td>None</td>\n",
              "      <td>None</td>\n",
              "      <td>None</td>\n",
              "      <td>None</td>\n",
              "      <td>None</td>\n",
              "    </tr>\n",
              "    <tr>\n",
              "      <th>17</th>\n",
              "      <td>AUSIMPX</td>\n",
              "      <td>None</td>\n",
              "      <td>None</td>\n",
              "      <td>None</td>\n",
              "      <td>None</td>\n",
              "      <td>None</td>\n",
              "      <td>None</td>\n",
              "      <td>None</td>\n",
              "      <td>None</td>\n",
              "    </tr>\n",
              "    <tr>\n",
              "      <th>18</th>\n",
              "      <td>AUSIMVOL</td>\n",
              "      <td>None</td>\n",
              "      <td>None</td>\n",
              "      <td>None</td>\n",
              "      <td>None</td>\n",
              "      <td>None</td>\n",
              "      <td>None</td>\n",
              "      <td>None</td>\n",
              "      <td>None</td>\n",
              "    </tr>\n",
              "    <tr>\n",
              "      <th>19</th>\n",
              "      <td>AUSLPS</td>\n",
              "      <td>None</td>\n",
              "      <td>None</td>\n",
              "      <td>None</td>\n",
              "      <td>None</td>\n",
              "      <td>None</td>\n",
              "      <td>None</td>\n",
              "      <td>None</td>\n",
              "      <td>None</td>\n",
              "    </tr>\n",
              "    <tr>\n",
              "      <th>20</th>\n",
              "      <td>AUSM1</td>\n",
              "      <td>None</td>\n",
              "      <td>None</td>\n",
              "      <td>None</td>\n",
              "      <td>None</td>\n",
              "      <td>None</td>\n",
              "      <td>None</td>\n",
              "      <td>None</td>\n",
              "      <td>None</td>\n",
              "    </tr>\n",
              "    <tr>\n",
              "      <th>21</th>\n",
              "      <td>AUSM3</td>\n",
              "      <td>None</td>\n",
              "      <td>None</td>\n",
              "      <td>None</td>\n",
              "      <td>None</td>\n",
              "      <td>None</td>\n",
              "      <td>None</td>\n",
              "      <td>None</td>\n",
              "      <td>None</td>\n",
              "    </tr>\n",
              "    <tr>\n",
              "      <th>22</th>\n",
              "      <td>AUSMANWG</td>\n",
              "      <td>None</td>\n",
              "      <td>None</td>\n",
              "      <td>None</td>\n",
              "      <td>None</td>\n",
              "      <td>None</td>\n",
              "      <td>None</td>\n",
              "      <td>None</td>\n",
              "      <td>None</td>\n",
              "    </tr>\n",
              "    <tr>\n",
              "      <th>23</th>\n",
              "      <td>AUSMKT</td>\n",
              "      <td>None</td>\n",
              "      <td>None</td>\n",
              "      <td>None</td>\n",
              "      <td>None</td>\n",
              "      <td>None</td>\n",
              "      <td>None</td>\n",
              "      <td>None</td>\n",
              "      <td>None</td>\n",
              "    </tr>\n",
              "    <tr>\n",
              "      <th>24</th>\n",
              "      <td>AUSMPMI</td>\n",
              "      <td>None</td>\n",
              "      <td>None</td>\n",
              "      <td>None</td>\n",
              "      <td>None</td>\n",
              "      <td>None</td>\n",
              "      <td>None</td>\n",
              "      <td>None</td>\n",
              "      <td>None</td>\n",
              "    </tr>\n",
              "    <tr>\n",
              "      <th>25</th>\n",
              "      <td>AUSPPI</td>\n",
              "      <td>None</td>\n",
              "      <td>None</td>\n",
              "      <td>None</td>\n",
              "      <td>None</td>\n",
              "      <td>None</td>\n",
              "      <td>None</td>\n",
              "      <td>None</td>\n",
              "      <td>None</td>\n",
              "    </tr>\n",
              "    <tr>\n",
              "      <th>26</th>\n",
              "      <td>AUSSPMI</td>\n",
              "      <td>None</td>\n",
              "      <td>None</td>\n",
              "      <td>None</td>\n",
              "      <td>None</td>\n",
              "      <td>None</td>\n",
              "      <td>None</td>\n",
              "      <td>None</td>\n",
              "      <td>None</td>\n",
              "    </tr>\n",
              "    <tr>\n",
              "      <th>27</th>\n",
              "      <td>AUSSSR</td>\n",
              "      <td>None</td>\n",
              "      <td>None</td>\n",
              "      <td>None</td>\n",
              "      <td>None</td>\n",
              "      <td>None</td>\n",
              "      <td>None</td>\n",
              "      <td>None</td>\n",
              "      <td>None</td>\n",
              "    </tr>\n",
              "    <tr>\n",
              "      <th>28</th>\n",
              "      <td>AUSSSRC</td>\n",
              "      <td>None</td>\n",
              "      <td>None</td>\n",
              "      <td>None</td>\n",
              "      <td>None</td>\n",
              "      <td>None</td>\n",
              "      <td>None</td>\n",
              "      <td>None</td>\n",
              "      <td>None</td>\n",
              "    </tr>\n",
              "    <tr>\n",
              "      <th>29</th>\n",
              "      <td>AUSSSRE</td>\n",
              "      <td>None</td>\n",
              "      <td>None</td>\n",
              "      <td>None</td>\n",
              "      <td>None</td>\n",
              "      <td>None</td>\n",
              "      <td>None</td>\n",
              "      <td>None</td>\n",
              "      <td>None</td>\n",
              "    </tr>\n",
              "    <tr>\n",
              "      <th>30</th>\n",
              "      <td>AUSTOUR</td>\n",
              "      <td>None</td>\n",
              "      <td>None</td>\n",
              "      <td>None</td>\n",
              "      <td>None</td>\n",
              "      <td>None</td>\n",
              "      <td>None</td>\n",
              "      <td>None</td>\n",
              "      <td>None</td>\n",
              "    </tr>\n",
              "    <tr>\n",
              "      <th>31</th>\n",
              "      <td>AUSTVS</td>\n",
              "      <td>None</td>\n",
              "      <td>None</td>\n",
              "      <td>None</td>\n",
              "      <td>None</td>\n",
              "      <td>None</td>\n",
              "      <td>None</td>\n",
              "      <td>None</td>\n",
              "      <td>None</td>\n",
              "    </tr>\n",
              "    <tr>\n",
              "      <th>32</th>\n",
              "      <td>AUSWAGE</td>\n",
              "      <td>None</td>\n",
              "      <td>None</td>\n",
              "      <td>None</td>\n",
              "      <td>None</td>\n",
              "      <td>None</td>\n",
              "      <td>None</td>\n",
              "      <td>None</td>\n",
              "      <td>None</td>\n",
              "    </tr>\n",
              "  </tbody>\n",
              "</table>\n",
              "</div>\n",
              "      <button class=\"colab-df-convert\" onclick=\"convertToInteractive('df-412d3baa-65c2-495a-a2ad-e06302794753')\"\n",
              "              title=\"Convert this dataframe to an interactive table.\"\n",
              "              style=\"display:none;\">\n",
              "        \n",
              "  <svg xmlns=\"http://www.w3.org/2000/svg\" height=\"24px\"viewBox=\"0 0 24 24\"\n",
              "       width=\"24px\">\n",
              "    <path d=\"M0 0h24v24H0V0z\" fill=\"none\"/>\n",
              "    <path d=\"M18.56 5.44l.94 2.06.94-2.06 2.06-.94-2.06-.94-.94-2.06-.94 2.06-2.06.94zm-11 1L8.5 8.5l.94-2.06 2.06-.94-2.06-.94L8.5 2.5l-.94 2.06-2.06.94zm10 10l.94 2.06.94-2.06 2.06-.94-2.06-.94-.94-2.06-.94 2.06-2.06.94z\"/><path d=\"M17.41 7.96l-1.37-1.37c-.4-.4-.92-.59-1.43-.59-.52 0-1.04.2-1.43.59L10.3 9.45l-7.72 7.72c-.78.78-.78 2.05 0 2.83L4 21.41c.39.39.9.59 1.41.59.51 0 1.02-.2 1.41-.59l7.78-7.78 2.81-2.81c.8-.78.8-2.07 0-2.86zM5.41 20L4 18.59l7.72-7.72 1.47 1.35L5.41 20z\"/>\n",
              "  </svg>\n",
              "      </button>\n",
              "      \n",
              "  <style>\n",
              "    .colab-df-container {\n",
              "      display:flex;\n",
              "      flex-wrap:wrap;\n",
              "      gap: 12px;\n",
              "    }\n",
              "\n",
              "    .colab-df-convert {\n",
              "      background-color: #E8F0FE;\n",
              "      border: none;\n",
              "      border-radius: 50%;\n",
              "      cursor: pointer;\n",
              "      display: none;\n",
              "      fill: #1967D2;\n",
              "      height: 32px;\n",
              "      padding: 0 0 0 0;\n",
              "      width: 32px;\n",
              "    }\n",
              "\n",
              "    .colab-df-convert:hover {\n",
              "      background-color: #E2EBFA;\n",
              "      box-shadow: 0px 1px 2px rgba(60, 64, 67, 0.3), 0px 1px 3px 1px rgba(60, 64, 67, 0.15);\n",
              "      fill: #174EA6;\n",
              "    }\n",
              "\n",
              "    [theme=dark] .colab-df-convert {\n",
              "      background-color: #3B4455;\n",
              "      fill: #D2E3FC;\n",
              "    }\n",
              "\n",
              "    [theme=dark] .colab-df-convert:hover {\n",
              "      background-color: #434B5C;\n",
              "      box-shadow: 0px 1px 3px 1px rgba(0, 0, 0, 0.15);\n",
              "      filter: drop-shadow(0px 1px 2px rgba(0, 0, 0, 0.3));\n",
              "      fill: #FFFFFF;\n",
              "    }\n",
              "  </style>\n",
              "\n",
              "      <script>\n",
              "        const buttonEl =\n",
              "          document.querySelector('#df-412d3baa-65c2-495a-a2ad-e06302794753 button.colab-df-convert');\n",
              "        buttonEl.style.display =\n",
              "          google.colab.kernel.accessAllowed ? 'block' : 'none';\n",
              "\n",
              "        async function convertToInteractive(key) {\n",
              "          const element = document.querySelector('#df-412d3baa-65c2-495a-a2ad-e06302794753');\n",
              "          const dataTable =\n",
              "            await google.colab.kernel.invokeFunction('convertToInteractive',\n",
              "                                                     [key], {});\n",
              "          if (!dataTable) return;\n",
              "\n",
              "          const docLinkHtml = 'Like what you see? Visit the ' +\n",
              "            '<a target=\"_blank\" href=https://colab.research.google.com/notebooks/data_table.ipynb>data table notebook</a>'\n",
              "            + ' to learn more about interactive tables.';\n",
              "          element.innerHTML = '';\n",
              "          dataTable['output_type'] = 'display_data';\n",
              "          await google.colab.output.renderOutput(dataTable, element);\n",
              "          const docLink = document.createElement('div');\n",
              "          docLink.innerHTML = docLinkHtml;\n",
              "          element.appendChild(docLink);\n",
              "        }\n",
              "      </script>\n",
              "    </div>\n",
              "  </div>\n",
              "  "
            ]
          },
          "metadata": {},
          "execution_count": 72
        }
      ]
    },
    {
      "cell_type": "code",
      "source": [
        "all_factors.to_excel('all_factors_pca.xlsx')"
      ],
      "metadata": {
        "id": "J9o0U8va02A4"
      },
      "execution_count": 73,
      "outputs": []
    },
    {
      "cell_type": "code",
      "source": [
        "final_factors = loadings_data.transpose()\n",
        "final_factors = pd.DataFrame(final_factors.idxmax(axis=1), columns=['Variables'])\n",
        "final_factors['Loading_Values'] = loadings_data.max()\n",
        "final_factors"
      ],
      "metadata": {
        "colab": {
          "base_uri": "https://localhost:8080/",
          "height": 328
        },
        "id": "3b3oL97p7Wzz",
        "outputId": "b4e42b91-d02d-48c6-b1b7-ac61a50871e2"
      },
      "execution_count": 89,
      "outputs": [
        {
          "output_type": "execute_result",
          "data": {
            "text/plain": [
              "         Variables  Loading_Values\n",
              "Factors1   AUSCCON           0.996\n",
              "Factors2   AUSLFPR           0.861\n",
              "Factors3      AUSG           0.936\n",
              "Factors4     AUSCA           0.930\n",
              "Factors5     AUSMP           0.772\n",
              "Factors6   AUSGAGR           0.813\n",
              "Factors7  AUSPTEMP           0.804\n",
              "Factors8   AUSPPIC           0.707\n",
              "Factors9   AUSGBVL           0.576"
            ],
            "text/html": [
              "\n",
              "  <div id=\"df-59eabdc3-cdef-44e9-9a89-cb6c0673d2c7\">\n",
              "    <div class=\"colab-df-container\">\n",
              "      <div>\n",
              "<style scoped>\n",
              "    .dataframe tbody tr th:only-of-type {\n",
              "        vertical-align: middle;\n",
              "    }\n",
              "\n",
              "    .dataframe tbody tr th {\n",
              "        vertical-align: top;\n",
              "    }\n",
              "\n",
              "    .dataframe thead th {\n",
              "        text-align: right;\n",
              "    }\n",
              "</style>\n",
              "<table border=\"1\" class=\"dataframe\">\n",
              "  <thead>\n",
              "    <tr style=\"text-align: right;\">\n",
              "      <th></th>\n",
              "      <th>Variables</th>\n",
              "      <th>Loading_Values</th>\n",
              "    </tr>\n",
              "  </thead>\n",
              "  <tbody>\n",
              "    <tr>\n",
              "      <th>Factors1</th>\n",
              "      <td>AUSCCON</td>\n",
              "      <td>0.996</td>\n",
              "    </tr>\n",
              "    <tr>\n",
              "      <th>Factors2</th>\n",
              "      <td>AUSLFPR</td>\n",
              "      <td>0.861</td>\n",
              "    </tr>\n",
              "    <tr>\n",
              "      <th>Factors3</th>\n",
              "      <td>AUSG</td>\n",
              "      <td>0.936</td>\n",
              "    </tr>\n",
              "    <tr>\n",
              "      <th>Factors4</th>\n",
              "      <td>AUSCA</td>\n",
              "      <td>0.930</td>\n",
              "    </tr>\n",
              "    <tr>\n",
              "      <th>Factors5</th>\n",
              "      <td>AUSMP</td>\n",
              "      <td>0.772</td>\n",
              "    </tr>\n",
              "    <tr>\n",
              "      <th>Factors6</th>\n",
              "      <td>AUSGAGR</td>\n",
              "      <td>0.813</td>\n",
              "    </tr>\n",
              "    <tr>\n",
              "      <th>Factors7</th>\n",
              "      <td>AUSPTEMP</td>\n",
              "      <td>0.804</td>\n",
              "    </tr>\n",
              "    <tr>\n",
              "      <th>Factors8</th>\n",
              "      <td>AUSPPIC</td>\n",
              "      <td>0.707</td>\n",
              "    </tr>\n",
              "    <tr>\n",
              "      <th>Factors9</th>\n",
              "      <td>AUSGBVL</td>\n",
              "      <td>0.576</td>\n",
              "    </tr>\n",
              "  </tbody>\n",
              "</table>\n",
              "</div>\n",
              "      <button class=\"colab-df-convert\" onclick=\"convertToInteractive('df-59eabdc3-cdef-44e9-9a89-cb6c0673d2c7')\"\n",
              "              title=\"Convert this dataframe to an interactive table.\"\n",
              "              style=\"display:none;\">\n",
              "        \n",
              "  <svg xmlns=\"http://www.w3.org/2000/svg\" height=\"24px\"viewBox=\"0 0 24 24\"\n",
              "       width=\"24px\">\n",
              "    <path d=\"M0 0h24v24H0V0z\" fill=\"none\"/>\n",
              "    <path d=\"M18.56 5.44l.94 2.06.94-2.06 2.06-.94-2.06-.94-.94-2.06-.94 2.06-2.06.94zm-11 1L8.5 8.5l.94-2.06 2.06-.94-2.06-.94L8.5 2.5l-.94 2.06-2.06.94zm10 10l.94 2.06.94-2.06 2.06-.94-2.06-.94-.94-2.06-.94 2.06-2.06.94z\"/><path d=\"M17.41 7.96l-1.37-1.37c-.4-.4-.92-.59-1.43-.59-.52 0-1.04.2-1.43.59L10.3 9.45l-7.72 7.72c-.78.78-.78 2.05 0 2.83L4 21.41c.39.39.9.59 1.41.59.51 0 1.02-.2 1.41-.59l7.78-7.78 2.81-2.81c.8-.78.8-2.07 0-2.86zM5.41 20L4 18.59l7.72-7.72 1.47 1.35L5.41 20z\"/>\n",
              "  </svg>\n",
              "      </button>\n",
              "      \n",
              "  <style>\n",
              "    .colab-df-container {\n",
              "      display:flex;\n",
              "      flex-wrap:wrap;\n",
              "      gap: 12px;\n",
              "    }\n",
              "\n",
              "    .colab-df-convert {\n",
              "      background-color: #E8F0FE;\n",
              "      border: none;\n",
              "      border-radius: 50%;\n",
              "      cursor: pointer;\n",
              "      display: none;\n",
              "      fill: #1967D2;\n",
              "      height: 32px;\n",
              "      padding: 0 0 0 0;\n",
              "      width: 32px;\n",
              "    }\n",
              "\n",
              "    .colab-df-convert:hover {\n",
              "      background-color: #E2EBFA;\n",
              "      box-shadow: 0px 1px 2px rgba(60, 64, 67, 0.3), 0px 1px 3px 1px rgba(60, 64, 67, 0.15);\n",
              "      fill: #174EA6;\n",
              "    }\n",
              "\n",
              "    [theme=dark] .colab-df-convert {\n",
              "      background-color: #3B4455;\n",
              "      fill: #D2E3FC;\n",
              "    }\n",
              "\n",
              "    [theme=dark] .colab-df-convert:hover {\n",
              "      background-color: #434B5C;\n",
              "      box-shadow: 0px 1px 3px 1px rgba(0, 0, 0, 0.15);\n",
              "      filter: drop-shadow(0px 1px 2px rgba(0, 0, 0, 0.3));\n",
              "      fill: #FFFFFF;\n",
              "    }\n",
              "  </style>\n",
              "\n",
              "      <script>\n",
              "        const buttonEl =\n",
              "          document.querySelector('#df-59eabdc3-cdef-44e9-9a89-cb6c0673d2c7 button.colab-df-convert');\n",
              "        buttonEl.style.display =\n",
              "          google.colab.kernel.accessAllowed ? 'block' : 'none';\n",
              "\n",
              "        async function convertToInteractive(key) {\n",
              "          const element = document.querySelector('#df-59eabdc3-cdef-44e9-9a89-cb6c0673d2c7');\n",
              "          const dataTable =\n",
              "            await google.colab.kernel.invokeFunction('convertToInteractive',\n",
              "                                                     [key], {});\n",
              "          if (!dataTable) return;\n",
              "\n",
              "          const docLinkHtml = 'Like what you see? Visit the ' +\n",
              "            '<a target=\"_blank\" href=https://colab.research.google.com/notebooks/data_table.ipynb>data table notebook</a>'\n",
              "            + ' to learn more about interactive tables.';\n",
              "          element.innerHTML = '';\n",
              "          dataTable['output_type'] = 'display_data';\n",
              "          await google.colab.output.renderOutput(dataTable, element);\n",
              "          const docLink = document.createElement('div');\n",
              "          docLink.innerHTML = docLinkHtml;\n",
              "          element.appendChild(docLink);\n",
              "        }\n",
              "      </script>\n",
              "    </div>\n",
              "  </div>\n",
              "  "
            ]
          },
          "metadata": {},
          "execution_count": 89
        }
      ]
    },
    {
      "cell_type": "code",
      "source": [
        "final_factors.to_excel('final_factors.xlsx')"
      ],
      "metadata": {
        "id": "VRisMBv57iOW"
      },
      "execution_count": 90,
      "outputs": []
    },
    {
      "cell_type": "code",
      "source": [
        ""
      ],
      "metadata": {
        "id": "TgnIhXMn7x_I"
      },
      "execution_count": null,
      "outputs": []
    }
  ]
}